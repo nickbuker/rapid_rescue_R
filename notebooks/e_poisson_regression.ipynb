{
 "cells": [
  {
   "cell_type": "code",
   "execution_count": 15,
   "metadata": {
    "collapsed": true
   },
   "outputs": [],
   "source": [
    "library(broom)"
   ]
  },
  {
   "cell_type": "code",
   "execution_count": 1,
   "metadata": {
    "collapsed": true
   },
   "outputs": [],
   "source": [
    "dta1 <- read.csv('../data/model_data1.csv', header=TRUE)\n",
    "dta2 <- read.csv('../data/model_data2.csv', header=TRUE)\n",
    "dta3 <- read.csv('../data/model_data3.csv', header=TRUE)\n",
    "dta4 <- read.csv('../data/model_data4.csv', header=TRUE)\n",
    "dta5 <- read.csv('../data/model_data5.csv', header=TRUE)\n",
    "dta6 <- read.csv('../data/model_data6.csv', header=TRUE)\n",
    "dta7 <- read.csv('../data/model_data7.csv', header=TRUE)"
   ]
  },
  {
   "cell_type": "code",
   "execution_count": 2,
   "metadata": {},
   "outputs": [
    {
     "data": {
      "text/html": [
       "<table>\n",
       "<thead><tr><th scope=col>Monday</th><th scope=col>Tuesday</th><th scope=col>Wednesday</th><th scope=col>Thursday</th><th scope=col>Friday</th><th scope=col>Saturday</th><th scope=col>Night</th><th scope=col>DangHoliday</th><th scope=col>TravHoliday</th><th scope=col>DayNumber</th><th scope=col>Seasonality</th><th scope=col>MarinersHome</th><th scope=col>SeahawksHome</th><th scope=col>SoundersHome</th><th scope=col>Freq</th></tr></thead>\n",
       "<tbody>\n",
       "\t<tr><td>0          </td><td>0          </td><td>0          </td><td>0          </td><td>0          </td><td>0          </td><td>0          </td><td>0          </td><td>0          </td><td>0.004536862</td><td>0.9613720  </td><td>1          </td><td>0          </td><td>1          </td><td>30         </td></tr>\n",
       "\t<tr><td>0          </td><td>0          </td><td>0          </td><td>0          </td><td>0          </td><td>0          </td><td>0          </td><td>0          </td><td>0          </td><td>0.007183365</td><td>0.9811801  </td><td>0          </td><td>0          </td><td>0          </td><td>18         </td></tr>\n",
       "\t<tr><td>0          </td><td>0          </td><td>0          </td><td>0          </td><td>0          </td><td>0          </td><td>0          </td><td>0          </td><td>0          </td><td>0.009829868</td><td>0.9940195  </td><td>1          </td><td>0          </td><td>1          </td><td> 1         </td></tr>\n",
       "\t<tr><td>0          </td><td>0          </td><td>0          </td><td>0          </td><td>0          </td><td>0          </td><td>0          </td><td>0          </td><td>0          </td><td>0.015122873</td><td>0.9981516  </td><td>1          </td><td>0          </td><td>1          </td><td>37         </td></tr>\n",
       "\t<tr><td>0          </td><td>0          </td><td>0          </td><td>0          </td><td>0          </td><td>0          </td><td>0          </td><td>0          </td><td>0          </td><td>0.017769376</td><td>0.9893845  </td><td>0          </td><td>0          </td><td>0          </td><td>33         </td></tr>\n",
       "\t<tr><td>0          </td><td>0          </td><td>0          </td><td>0          </td><td>0          </td><td>0          </td><td>0          </td><td>0          </td><td>0          </td><td>0.020415879</td><td>0.9735298  </td><td>0          </td><td>0          </td><td>0          </td><td> 6         </td></tr>\n",
       "</tbody>\n",
       "</table>\n"
      ],
      "text/latex": [
       "\\begin{tabular}{r|lllllllllllllll}\n",
       " Monday & Tuesday & Wednesday & Thursday & Friday & Saturday & Night & DangHoliday & TravHoliday & DayNumber & Seasonality & MarinersHome & SeahawksHome & SoundersHome & Freq\\\\\n",
       "\\hline\n",
       "\t 0           & 0           & 0           & 0           & 0           & 0           & 0           & 0           & 0           & 0.004536862 & 0.9613720   & 1           & 0           & 1           & 30         \\\\\n",
       "\t 0           & 0           & 0           & 0           & 0           & 0           & 0           & 0           & 0           & 0.007183365 & 0.9811801   & 0           & 0           & 0           & 18         \\\\\n",
       "\t 0           & 0           & 0           & 0           & 0           & 0           & 0           & 0           & 0           & 0.009829868 & 0.9940195   & 1           & 0           & 1           &  1         \\\\\n",
       "\t 0           & 0           & 0           & 0           & 0           & 0           & 0           & 0           & 0           & 0.015122873 & 0.9981516   & 1           & 0           & 1           & 37         \\\\\n",
       "\t 0           & 0           & 0           & 0           & 0           & 0           & 0           & 0           & 0           & 0.017769376 & 0.9893845   & 0           & 0           & 0           & 33         \\\\\n",
       "\t 0           & 0           & 0           & 0           & 0           & 0           & 0           & 0           & 0           & 0.020415879 & 0.9735298   & 0           & 0           & 0           &  6         \\\\\n",
       "\\end{tabular}\n"
      ],
      "text/markdown": [
       "\n",
       "Monday | Tuesday | Wednesday | Thursday | Friday | Saturday | Night | DangHoliday | TravHoliday | DayNumber | Seasonality | MarinersHome | SeahawksHome | SoundersHome | Freq | \n",
       "|---|---|---|---|---|---|\n",
       "| 0           | 0           | 0           | 0           | 0           | 0           | 0           | 0           | 0           | 0.004536862 | 0.9613720   | 1           | 0           | 1           | 30          | \n",
       "| 0           | 0           | 0           | 0           | 0           | 0           | 0           | 0           | 0           | 0.007183365 | 0.9811801   | 0           | 0           | 0           | 18          | \n",
       "| 0           | 0           | 0           | 0           | 0           | 0           | 0           | 0           | 0           | 0.009829868 | 0.9940195   | 1           | 0           | 1           |  1          | \n",
       "| 0           | 0           | 0           | 0           | 0           | 0           | 0           | 0           | 0           | 0.015122873 | 0.9981516   | 1           | 0           | 1           | 37          | \n",
       "| 0           | 0           | 0           | 0           | 0           | 0           | 0           | 0           | 0           | 0.017769376 | 0.9893845   | 0           | 0           | 0           | 33          | \n",
       "| 0           | 0           | 0           | 0           | 0           | 0           | 0           | 0           | 0           | 0.020415879 | 0.9735298   | 0           | 0           | 0           |  6          | \n",
       "\n",
       "\n"
      ],
      "text/plain": [
       "  Monday Tuesday Wednesday Thursday Friday Saturday Night DangHoliday\n",
       "1 0      0       0         0        0      0        0     0          \n",
       "2 0      0       0         0        0      0        0     0          \n",
       "3 0      0       0         0        0      0        0     0          \n",
       "4 0      0       0         0        0      0        0     0          \n",
       "5 0      0       0         0        0      0        0     0          \n",
       "6 0      0       0         0        0      0        0     0          \n",
       "  TravHoliday DayNumber   Seasonality MarinersHome SeahawksHome SoundersHome\n",
       "1 0           0.004536862 0.9613720   1            0            1           \n",
       "2 0           0.007183365 0.9811801   0            0            0           \n",
       "3 0           0.009829868 0.9940195   1            0            1           \n",
       "4 0           0.015122873 0.9981516   1            0            1           \n",
       "5 0           0.017769376 0.9893845   0            0            0           \n",
       "6 0           0.020415879 0.9735298   0            0            0           \n",
       "  Freq\n",
       "1 30  \n",
       "2 18  \n",
       "3  1  \n",
       "4 37  \n",
       "5 33  \n",
       "6  6  "
      ]
     },
     "metadata": {},
     "output_type": "display_data"
    }
   ],
   "source": [
    "head(dta1)"
   ]
  },
  {
   "cell_type": "code",
   "execution_count": 3,
   "metadata": {},
   "outputs": [
    {
     "data": {
      "text/html": [
       "<dl class=dl-horizontal>\n",
       "\t<dt>Monday</dt>\n",
       "\t\t<dd>'integer'</dd>\n",
       "\t<dt>Tuesday</dt>\n",
       "\t\t<dd>'integer'</dd>\n",
       "\t<dt>Wednesday</dt>\n",
       "\t\t<dd>'integer'</dd>\n",
       "\t<dt>Thursday</dt>\n",
       "\t\t<dd>'integer'</dd>\n",
       "\t<dt>Friday</dt>\n",
       "\t\t<dd>'integer'</dd>\n",
       "\t<dt>Saturday</dt>\n",
       "\t\t<dd>'integer'</dd>\n",
       "\t<dt>Night</dt>\n",
       "\t\t<dd>'integer'</dd>\n",
       "\t<dt>DangHoliday</dt>\n",
       "\t\t<dd>'integer'</dd>\n",
       "\t<dt>TravHoliday</dt>\n",
       "\t\t<dd>'integer'</dd>\n",
       "\t<dt>DayNumber</dt>\n",
       "\t\t<dd>'double'</dd>\n",
       "\t<dt>Seasonality</dt>\n",
       "\t\t<dd>'double'</dd>\n",
       "\t<dt>MarinersHome</dt>\n",
       "\t\t<dd>'integer'</dd>\n",
       "\t<dt>SeahawksHome</dt>\n",
       "\t\t<dd>'integer'</dd>\n",
       "\t<dt>SoundersHome</dt>\n",
       "\t\t<dd>'integer'</dd>\n",
       "\t<dt>Freq</dt>\n",
       "\t\t<dd>'integer'</dd>\n",
       "</dl>\n"
      ],
      "text/latex": [
       "\\begin{description*}\n",
       "\\item[Monday] 'integer'\n",
       "\\item[Tuesday] 'integer'\n",
       "\\item[Wednesday] 'integer'\n",
       "\\item[Thursday] 'integer'\n",
       "\\item[Friday] 'integer'\n",
       "\\item[Saturday] 'integer'\n",
       "\\item[Night] 'integer'\n",
       "\\item[DangHoliday] 'integer'\n",
       "\\item[TravHoliday] 'integer'\n",
       "\\item[DayNumber] 'double'\n",
       "\\item[Seasonality] 'double'\n",
       "\\item[MarinersHome] 'integer'\n",
       "\\item[SeahawksHome] 'integer'\n",
       "\\item[SoundersHome] 'integer'\n",
       "\\item[Freq] 'integer'\n",
       "\\end{description*}\n"
      ],
      "text/markdown": [
       "Monday\n",
       ":   'integer'Tuesday\n",
       ":   'integer'Wednesday\n",
       ":   'integer'Thursday\n",
       ":   'integer'Friday\n",
       ":   'integer'Saturday\n",
       ":   'integer'Night\n",
       ":   'integer'DangHoliday\n",
       ":   'integer'TravHoliday\n",
       ":   'integer'DayNumber\n",
       ":   'double'Seasonality\n",
       ":   'double'MarinersHome\n",
       ":   'integer'SeahawksHome\n",
       ":   'integer'SoundersHome\n",
       ":   'integer'Freq\n",
       ":   'integer'\n",
       "\n"
      ],
      "text/plain": [
       "      Monday      Tuesday    Wednesday     Thursday       Friday     Saturday \n",
       "   \"integer\"    \"integer\"    \"integer\"    \"integer\"    \"integer\"    \"integer\" \n",
       "       Night  DangHoliday  TravHoliday    DayNumber  Seasonality MarinersHome \n",
       "   \"integer\"    \"integer\"    \"integer\"     \"double\"     \"double\"    \"integer\" \n",
       "SeahawksHome SoundersHome         Freq \n",
       "   \"integer\"    \"integer\"    \"integer\" "
      ]
     },
     "metadata": {},
     "output_type": "display_data"
    }
   ],
   "source": [
    "sapply(dta1, typeof)"
   ]
  },
  {
   "cell_type": "code",
   "execution_count": 18,
   "metadata": {},
   "outputs": [
    {
     "data": {
      "text/html": [
       "<table>\n",
       "<thead><tr><th scope=col>term</th><th scope=col>estimate</th><th scope=col>std.error</th><th scope=col>statistic</th><th scope=col>p.value</th></tr></thead>\n",
       "<tbody>\n",
       "\t<tr><td>(Intercept)  </td><td> 2.639518538 </td><td>0.011963818  </td><td>220.6250947  </td><td> 0.000000e+00</td></tr>\n",
       "\t<tr><td>Monday       </td><td>-0.082982824 </td><td>0.012077965  </td><td> -6.8705967  </td><td> 6.393392e-12</td></tr>\n",
       "\t<tr><td>Tuesday      </td><td>-0.050526958 </td><td>0.012001543  </td><td> -4.2100386  </td><td> 2.553270e-05</td></tr>\n",
       "\t<tr><td>Wednesday    </td><td>-0.047800435 </td><td>0.011923652  </td><td> -4.0088755  </td><td> 6.100858e-05</td></tr>\n",
       "\t<tr><td>Thursday     </td><td>-0.066780603 </td><td>0.012071780  </td><td> -5.5319600  </td><td> 3.166721e-08</td></tr>\n",
       "\t<tr><td>Friday       </td><td>-0.035926486 </td><td>0.011925889  </td><td> -3.0124786  </td><td> 2.591237e-03</td></tr>\n",
       "\t<tr><td>Saturday     </td><td>-0.002378774 </td><td>0.011748913  </td><td> -0.2024676  </td><td> 8.395512e-01</td></tr>\n",
       "\t<tr><td>Night        </td><td> 0.321493756 </td><td>0.006321319  </td><td> 50.8586538  </td><td> 0.000000e+00</td></tr>\n",
       "\t<tr><td>DangHoliday  </td><td> 0.140615204 </td><td>0.038070912  </td><td>  3.6935076  </td><td> 2.211819e-04</td></tr>\n",
       "\t<tr><td>TravHoliday  </td><td> 0.061281420 </td><td>0.024662412  </td><td>  2.4848105  </td><td> 1.296204e-02</td></tr>\n",
       "\t<tr><td>DayNumber    </td><td> 0.334988812 </td><td>0.011046984  </td><td> 30.3240055  </td><td>5.532935e-202</td></tr>\n",
       "\t<tr><td>Seasonality  </td><td> 0.115266648 </td><td>0.009340294  </td><td> 12.3407948  </td><td> 5.461405e-35</td></tr>\n",
       "\t<tr><td>MarinersHome </td><td>-0.006898051 </td><td>0.007303680  </td><td> -0.9444624  </td><td> 3.449334e-01</td></tr>\n",
       "\t<tr><td>SeahawksHome </td><td>-0.046990265 </td><td>0.022008357  </td><td> -2.1351101  </td><td> 3.275201e-02</td></tr>\n",
       "\t<tr><td>SoundersHome </td><td> 0.002391836 </td><td>0.014770982  </td><td>  0.1619280  </td><td> 8.713625e-01</td></tr>\n",
       "</tbody>\n",
       "</table>\n"
      ],
      "text/latex": [
       "\\begin{tabular}{r|lllll}\n",
       " term & estimate & std.error & statistic & p.value\\\\\n",
       "\\hline\n",
       "\t (Intercept)   &  2.639518538  & 0.011963818   & 220.6250947   &  0.000000e+00\\\\\n",
       "\t Monday        & -0.082982824  & 0.012077965   &  -6.8705967   &  6.393392e-12\\\\\n",
       "\t Tuesday       & -0.050526958  & 0.012001543   &  -4.2100386   &  2.553270e-05\\\\\n",
       "\t Wednesday     & -0.047800435  & 0.011923652   &  -4.0088755   &  6.100858e-05\\\\\n",
       "\t Thursday      & -0.066780603  & 0.012071780   &  -5.5319600   &  3.166721e-08\\\\\n",
       "\t Friday        & -0.035926486  & 0.011925889   &  -3.0124786   &  2.591237e-03\\\\\n",
       "\t Saturday      & -0.002378774  & 0.011748913   &  -0.2024676   &  8.395512e-01\\\\\n",
       "\t Night         &  0.321493756  & 0.006321319   &  50.8586538   &  0.000000e+00\\\\\n",
       "\t DangHoliday   &  0.140615204  & 0.038070912   &   3.6935076   &  2.211819e-04\\\\\n",
       "\t TravHoliday   &  0.061281420  & 0.024662412   &   2.4848105   &  1.296204e-02\\\\\n",
       "\t DayNumber     &  0.334988812  & 0.011046984   &  30.3240055   & 5.532935e-202\\\\\n",
       "\t Seasonality   &  0.115266648  & 0.009340294   &  12.3407948   &  5.461405e-35\\\\\n",
       "\t MarinersHome  & -0.006898051  & 0.007303680   &  -0.9444624   &  3.449334e-01\\\\\n",
       "\t SeahawksHome  & -0.046990265  & 0.022008357   &  -2.1351101   &  3.275201e-02\\\\\n",
       "\t SoundersHome  &  0.002391836  & 0.014770982   &   0.1619280   &  8.713625e-01\\\\\n",
       "\\end{tabular}\n"
      ],
      "text/markdown": [
       "\n",
       "term | estimate | std.error | statistic | p.value | \n",
       "|---|---|---|---|---|---|---|---|---|---|---|---|---|---|---|\n",
       "| (Intercept)   |  2.639518538  | 0.011963818   | 220.6250947   |  0.000000e+00 | \n",
       "| Monday        | -0.082982824  | 0.012077965   |  -6.8705967   |  6.393392e-12 | \n",
       "| Tuesday       | -0.050526958  | 0.012001543   |  -4.2100386   |  2.553270e-05 | \n",
       "| Wednesday     | -0.047800435  | 0.011923652   |  -4.0088755   |  6.100858e-05 | \n",
       "| Thursday      | -0.066780603  | 0.012071780   |  -5.5319600   |  3.166721e-08 | \n",
       "| Friday        | -0.035926486  | 0.011925889   |  -3.0124786   |  2.591237e-03 | \n",
       "| Saturday      | -0.002378774  | 0.011748913   |  -0.2024676   |  8.395512e-01 | \n",
       "| Night         |  0.321493756  | 0.006321319   |  50.8586538   |  0.000000e+00 | \n",
       "| DangHoliday   |  0.140615204  | 0.038070912   |   3.6935076   |  2.211819e-04 | \n",
       "| TravHoliday   |  0.061281420  | 0.024662412   |   2.4848105   |  1.296204e-02 | \n",
       "| DayNumber     |  0.334988812  | 0.011046984   |  30.3240055   | 5.532935e-202 | \n",
       "| Seasonality   |  0.115266648  | 0.009340294   |  12.3407948   |  5.461405e-35 | \n",
       "| MarinersHome  | -0.006898051  | 0.007303680   |  -0.9444624   |  3.449334e-01 | \n",
       "| SeahawksHome  | -0.046990265  | 0.022008357   |  -2.1351101   |  3.275201e-02 | \n",
       "| SoundersHome  |  0.002391836  | 0.014770982   |   0.1619280   |  8.713625e-01 | \n",
       "\n",
       "\n"
      ],
      "text/plain": [
       "   term         estimate     std.error   statistic   p.value      \n",
       "1  (Intercept)   2.639518538 0.011963818 220.6250947  0.000000e+00\n",
       "2  Monday       -0.082982824 0.012077965  -6.8705967  6.393392e-12\n",
       "3  Tuesday      -0.050526958 0.012001543  -4.2100386  2.553270e-05\n",
       "4  Wednesday    -0.047800435 0.011923652  -4.0088755  6.100858e-05\n",
       "5  Thursday     -0.066780603 0.012071780  -5.5319600  3.166721e-08\n",
       "6  Friday       -0.035926486 0.011925889  -3.0124786  2.591237e-03\n",
       "7  Saturday     -0.002378774 0.011748913  -0.2024676  8.395512e-01\n",
       "8  Night         0.321493756 0.006321319  50.8586538  0.000000e+00\n",
       "9  DangHoliday   0.140615204 0.038070912   3.6935076  2.211819e-04\n",
       "10 TravHoliday   0.061281420 0.024662412   2.4848105  1.296204e-02\n",
       "11 DayNumber     0.334988812 0.011046984  30.3240055 5.532935e-202\n",
       "12 Seasonality   0.115266648 0.009340294  12.3407948  5.461405e-35\n",
       "13 MarinersHome -0.006898051 0.007303680  -0.9444624  3.449334e-01\n",
       "14 SeahawksHome -0.046990265 0.022008357  -2.1351101  3.275201e-02\n",
       "15 SoundersHome  0.002391836 0.014770982   0.1619280  8.713625e-01"
      ]
     },
     "metadata": {},
     "output_type": "display_data"
    },
    {
     "data": {
      "text/html": [
       "<table>\n",
       "<thead><tr><th scope=col>null.deviance</th><th scope=col>df.null</th><th scope=col>logLik</th><th scope=col>AIC</th><th scope=col>BIC</th><th scope=col>deviance</th><th scope=col>df.residual</th></tr></thead>\n",
       "<tbody>\n",
       "\t<tr><td>15747.27 </td><td>5087     </td><td>-18060.29</td><td>36150.58 </td><td>36248.6  </td><td>11879.83 </td><td>5073     </td></tr>\n",
       "</tbody>\n",
       "</table>\n"
      ],
      "text/latex": [
       "\\begin{tabular}{r|lllllll}\n",
       " null.deviance & df.null & logLik & AIC & BIC & deviance & df.residual\\\\\n",
       "\\hline\n",
       "\t 15747.27  & 5087      & -18060.29 & 36150.58  & 36248.6   & 11879.83  & 5073     \\\\\n",
       "\\end{tabular}\n"
      ],
      "text/markdown": [
       "\n",
       "null.deviance | df.null | logLik | AIC | BIC | deviance | df.residual | \n",
       "|---|\n",
       "| 15747.27  | 5087      | -18060.29 | 36150.58  | 36248.6   | 11879.83  | 5073      | \n",
       "\n",
       "\n"
      ],
      "text/plain": [
       "  null.deviance df.null logLik    AIC      BIC     deviance df.residual\n",
       "1 15747.27      5087    -18060.29 36150.58 36248.6 11879.83 5073       "
      ]
     },
     "metadata": {},
     "output_type": "display_data"
    }
   ],
   "source": [
    "lm1 <- glm(Freq ~ ., family = 'poisson'(link=log), data = dta1)\n",
    "tidy(lm1)\n",
    "glance(lm1)"
   ]
  },
  {
   "cell_type": "code",
   "execution_count": 19,
   "metadata": {},
   "outputs": [
    {
     "data": {
      "text/html": [
       "<table>\n",
       "<thead><tr><th scope=col>term</th><th scope=col>estimate</th><th scope=col>std.error</th><th scope=col>statistic</th><th scope=col>p.value</th></tr></thead>\n",
       "<tbody>\n",
       "\t<tr><td>(Intercept)  </td><td> 2.42734619  </td><td>0.013424266  </td><td>180.8177916  </td><td> 0.000000e+00</td></tr>\n",
       "\t<tr><td>Monday       </td><td>-0.08072726  </td><td>0.013699124  </td><td> -5.8928777  </td><td> 3.795272e-09</td></tr>\n",
       "\t<tr><td>Tuesday      </td><td>-0.01649754  </td><td>0.013516006  </td><td> -1.2205929  </td><td> 2.222402e-01</td></tr>\n",
       "\t<tr><td>Wednesday    </td><td>-0.00245913  </td><td>0.013388326  </td><td> -0.1836772  </td><td> 8.542667e-01</td></tr>\n",
       "\t<tr><td>Thursday     </td><td>-0.01938377  </td><td>0.013546222  </td><td> -1.4309353  </td><td> 1.524488e-01</td></tr>\n",
       "\t<tr><td>Friday       </td><td> 0.01677328  </td><td>0.013363549  </td><td>  1.2551517  </td><td> 2.094237e-01</td></tr>\n",
       "\t<tr><td>Saturday     </td><td> 0.05241585  </td><td>0.013165409  </td><td>  3.9813312  </td><td> 6.853039e-05</td></tr>\n",
       "\t<tr><td>Night        </td><td> 0.31112519  </td><td>0.007050221  </td><td> 44.1298504  </td><td> 0.000000e+00</td></tr>\n",
       "\t<tr><td>DangHoliday  </td><td> 0.10212350  </td><td>0.044066191  </td><td>  2.3175024  </td><td> 2.047638e-02</td></tr>\n",
       "\t<tr><td>TravHoliday  </td><td>-0.01310249  </td><td>0.028184395  </td><td> -0.4648847  </td><td> 6.420140e-01</td></tr>\n",
       "\t<tr><td>DayNumber    </td><td> 0.32944987  </td><td>0.012341360  </td><td> 26.6947787  </td><td>5.411888e-157</td></tr>\n",
       "\t<tr><td>Seasonality  </td><td> 0.05883741  </td><td>0.010408657  </td><td>  5.6527380  </td><td> 1.579119e-08</td></tr>\n",
       "\t<tr><td>MarinersHome </td><td>-0.01295815  </td><td>0.008180386  </td><td> -1.5840517  </td><td> 1.131820e-01</td></tr>\n",
       "\t<tr><td>SeahawksHome </td><td>-0.06828170  </td><td>0.025048204  </td><td> -2.7260120  </td><td> 6.410467e-03</td></tr>\n",
       "\t<tr><td>SoundersHome </td><td> 0.01263938  </td><td>0.016441070  </td><td>  0.7687688  </td><td> 4.420305e-01</td></tr>\n",
       "</tbody>\n",
       "</table>\n"
      ],
      "text/latex": [
       "\\begin{tabular}{r|lllll}\n",
       " term & estimate & std.error & statistic & p.value\\\\\n",
       "\\hline\n",
       "\t (Intercept)   &  2.42734619   & 0.013424266   & 180.8177916   &  0.000000e+00\\\\\n",
       "\t Monday        & -0.08072726   & 0.013699124   &  -5.8928777   &  3.795272e-09\\\\\n",
       "\t Tuesday       & -0.01649754   & 0.013516006   &  -1.2205929   &  2.222402e-01\\\\\n",
       "\t Wednesday     & -0.00245913   & 0.013388326   &  -0.1836772   &  8.542667e-01\\\\\n",
       "\t Thursday      & -0.01938377   & 0.013546222   &  -1.4309353   &  1.524488e-01\\\\\n",
       "\t Friday        &  0.01677328   & 0.013363549   &   1.2551517   &  2.094237e-01\\\\\n",
       "\t Saturday      &  0.05241585   & 0.013165409   &   3.9813312   &  6.853039e-05\\\\\n",
       "\t Night         &  0.31112519   & 0.007050221   &  44.1298504   &  0.000000e+00\\\\\n",
       "\t DangHoliday   &  0.10212350   & 0.044066191   &   2.3175024   &  2.047638e-02\\\\\n",
       "\t TravHoliday   & -0.01310249   & 0.028184395   &  -0.4648847   &  6.420140e-01\\\\\n",
       "\t DayNumber     &  0.32944987   & 0.012341360   &  26.6947787   & 5.411888e-157\\\\\n",
       "\t Seasonality   &  0.05883741   & 0.010408657   &   5.6527380   &  1.579119e-08\\\\\n",
       "\t MarinersHome  & -0.01295815   & 0.008180386   &  -1.5840517   &  1.131820e-01\\\\\n",
       "\t SeahawksHome  & -0.06828170   & 0.025048204   &  -2.7260120   &  6.410467e-03\\\\\n",
       "\t SoundersHome  &  0.01263938   & 0.016441070   &   0.7687688   &  4.420305e-01\\\\\n",
       "\\end{tabular}\n"
      ],
      "text/markdown": [
       "\n",
       "term | estimate | std.error | statistic | p.value | \n",
       "|---|---|---|---|---|---|---|---|---|---|---|---|---|---|---|\n",
       "| (Intercept)   |  2.42734619   | 0.013424266   | 180.8177916   |  0.000000e+00 | \n",
       "| Monday        | -0.08072726   | 0.013699124   |  -5.8928777   |  3.795272e-09 | \n",
       "| Tuesday       | -0.01649754   | 0.013516006   |  -1.2205929   |  2.222402e-01 | \n",
       "| Wednesday     | -0.00245913   | 0.013388326   |  -0.1836772   |  8.542667e-01 | \n",
       "| Thursday      | -0.01938377   | 0.013546222   |  -1.4309353   |  1.524488e-01 | \n",
       "| Friday        |  0.01677328   | 0.013363549   |   1.2551517   |  2.094237e-01 | \n",
       "| Saturday      |  0.05241585   | 0.013165409   |   3.9813312   |  6.853039e-05 | \n",
       "| Night         |  0.31112519   | 0.007050221   |  44.1298504   |  0.000000e+00 | \n",
       "| DangHoliday   |  0.10212350   | 0.044066191   |   2.3175024   |  2.047638e-02 | \n",
       "| TravHoliday   | -0.01310249   | 0.028184395   |  -0.4648847   |  6.420140e-01 | \n",
       "| DayNumber     |  0.32944987   | 0.012341360   |  26.6947787   | 5.411888e-157 | \n",
       "| Seasonality   |  0.05883741   | 0.010408657   |   5.6527380   |  1.579119e-08 | \n",
       "| MarinersHome  | -0.01295815   | 0.008180386   |  -1.5840517   |  1.131820e-01 | \n",
       "| SeahawksHome  | -0.06828170   | 0.025048204   |  -2.7260120   |  6.410467e-03 | \n",
       "| SoundersHome  |  0.01263938   | 0.016441070   |   0.7687688   |  4.420305e-01 | \n",
       "\n",
       "\n"
      ],
      "text/plain": [
       "   term         estimate    std.error   statistic   p.value      \n",
       "1  (Intercept)   2.42734619 0.013424266 180.8177916  0.000000e+00\n",
       "2  Monday       -0.08072726 0.013699124  -5.8928777  3.795272e-09\n",
       "3  Tuesday      -0.01649754 0.013516006  -1.2205929  2.222402e-01\n",
       "4  Wednesday    -0.00245913 0.013388326  -0.1836772  8.542667e-01\n",
       "5  Thursday     -0.01938377 0.013546222  -1.4309353  1.524488e-01\n",
       "6  Friday        0.01677328 0.013363549   1.2551517  2.094237e-01\n",
       "7  Saturday      0.05241585 0.013165409   3.9813312  6.853039e-05\n",
       "8  Night         0.31112519 0.007050221  44.1298504  0.000000e+00\n",
       "9  DangHoliday   0.10212350 0.044066191   2.3175024  2.047638e-02\n",
       "10 TravHoliday  -0.01310249 0.028184395  -0.4648847  6.420140e-01\n",
       "11 DayNumber     0.32944987 0.012341360  26.6947787 5.411888e-157\n",
       "12 Seasonality   0.05883741 0.010408657   5.6527380  1.579119e-08\n",
       "13 MarinersHome -0.01295815 0.008180386  -1.5840517  1.131820e-01\n",
       "14 SeahawksHome -0.06828170 0.025048204  -2.7260120  6.410467e-03\n",
       "15 SoundersHome  0.01263938 0.016441070   0.7687688  4.420305e-01"
      ]
     },
     "metadata": {},
     "output_type": "display_data"
    },
    {
     "data": {
      "text/html": [
       "<table>\n",
       "<thead><tr><th scope=col>null.deviance</th><th scope=col>df.null</th><th scope=col>logLik</th><th scope=col>AIC</th><th scope=col>BIC</th><th scope=col>deviance</th><th scope=col>df.residual</th></tr></thead>\n",
       "<tbody>\n",
       "\t<tr><td>13962.18</td><td>5088    </td><td>-17088.5</td><td>34206.99</td><td>34305.02</td><td>11084.54</td><td>5074    </td></tr>\n",
       "</tbody>\n",
       "</table>\n"
      ],
      "text/latex": [
       "\\begin{tabular}{r|lllllll}\n",
       " null.deviance & df.null & logLik & AIC & BIC & deviance & df.residual\\\\\n",
       "\\hline\n",
       "\t 13962.18 & 5088     & -17088.5 & 34206.99 & 34305.02 & 11084.54 & 5074    \\\\\n",
       "\\end{tabular}\n"
      ],
      "text/markdown": [
       "\n",
       "null.deviance | df.null | logLik | AIC | BIC | deviance | df.residual | \n",
       "|---|\n",
       "| 13962.18 | 5088     | -17088.5 | 34206.99 | 34305.02 | 11084.54 | 5074     | \n",
       "\n",
       "\n"
      ],
      "text/plain": [
       "  null.deviance df.null logLik   AIC      BIC      deviance df.residual\n",
       "1 13962.18      5088    -17088.5 34206.99 34305.02 11084.54 5074       "
      ]
     },
     "metadata": {},
     "output_type": "display_data"
    }
   ],
   "source": [
    "lm2 <- glm(Freq ~ ., family = 'poisson'(link=log), data = dta2)\n",
    "tidy(lm2)\n",
    "glance(lm2)"
   ]
  },
  {
   "cell_type": "code",
   "execution_count": 20,
   "metadata": {},
   "outputs": [
    {
     "data": {
      "text/html": [
       "<table>\n",
       "<thead><tr><th scope=col>term</th><th scope=col>estimate</th><th scope=col>std.error</th><th scope=col>statistic</th><th scope=col>p.value</th></tr></thead>\n",
       "<tbody>\n",
       "\t<tr><td>(Intercept)  </td><td> 2.041122865 </td><td>0.016150120  </td><td>126.3843782  </td><td> 0.000000e+00</td></tr>\n",
       "\t<tr><td>Monday       </td><td>-0.125375421 </td><td>0.016346114  </td><td> -7.6700445  </td><td> 1.719367e-14</td></tr>\n",
       "\t<tr><td>Tuesday      </td><td>-0.103880089 </td><td>0.016304821  </td><td> -6.3711272  </td><td> 1.876439e-10</td></tr>\n",
       "\t<tr><td>Wednesday    </td><td>-0.107906622 </td><td>0.016215680  </td><td> -6.6544619  </td><td> 2.843385e-11</td></tr>\n",
       "\t<tr><td>Thursday     </td><td>-0.085523286 </td><td>0.016279740  </td><td> -5.2533570  </td><td> 1.493516e-07</td></tr>\n",
       "\t<tr><td>Friday       </td><td>-0.047103002 </td><td>0.016006810  </td><td> -2.9426851  </td><td> 3.253792e-03</td></tr>\n",
       "\t<tr><td>Saturday     </td><td>-0.007414901 </td><td>0.015757754  </td><td> -0.4705557  </td><td> 6.379581e-01</td></tr>\n",
       "\t<tr><td>Night        </td><td> 0.266514118 </td><td>0.008549509  </td><td> 31.1730325  </td><td>2.472613e-213</td></tr>\n",
       "\t<tr><td>DangHoliday  </td><td> 0.359443612 </td><td>0.046329612  </td><td>  7.7583990  </td><td> 8.600820e-15</td></tr>\n",
       "\t<tr><td>TravHoliday  </td><td>-0.041671369 </td><td>0.035479249  </td><td> -1.1745279  </td><td> 2.401836e-01</td></tr>\n",
       "\t<tr><td>DayNumber    </td><td> 0.400585597 </td><td>0.015038001  </td><td> 26.6382214  </td><td>2.450551e-156</td></tr>\n",
       "\t<tr><td>Seasonality  </td><td> 0.134562848 </td><td>0.012680013  </td><td> 10.6122012  </td><td> 2.615145e-26</td></tr>\n",
       "\t<tr><td>MarinersHome </td><td> 0.001929471 </td><td>0.009884146  </td><td>  0.1952087  </td><td> 8.452296e-01</td></tr>\n",
       "\t<tr><td>SeahawksHome </td><td>-0.074469260 </td><td>0.030113525  </td><td> -2.4729506  </td><td> 1.340027e-02</td></tr>\n",
       "\t<tr><td>SoundersHome </td><td>-0.008436695 </td><td>0.020018550  </td><td> -0.4214439  </td><td> 6.734310e-01</td></tr>\n",
       "</tbody>\n",
       "</table>\n"
      ],
      "text/latex": [
       "\\begin{tabular}{r|lllll}\n",
       " term & estimate & std.error & statistic & p.value\\\\\n",
       "\\hline\n",
       "\t (Intercept)   &  2.041122865  & 0.016150120   & 126.3843782   &  0.000000e+00\\\\\n",
       "\t Monday        & -0.125375421  & 0.016346114   &  -7.6700445   &  1.719367e-14\\\\\n",
       "\t Tuesday       & -0.103880089  & 0.016304821   &  -6.3711272   &  1.876439e-10\\\\\n",
       "\t Wednesday     & -0.107906622  & 0.016215680   &  -6.6544619   &  2.843385e-11\\\\\n",
       "\t Thursday      & -0.085523286  & 0.016279740   &  -5.2533570   &  1.493516e-07\\\\\n",
       "\t Friday        & -0.047103002  & 0.016006810   &  -2.9426851   &  3.253792e-03\\\\\n",
       "\t Saturday      & -0.007414901  & 0.015757754   &  -0.4705557   &  6.379581e-01\\\\\n",
       "\t Night         &  0.266514118  & 0.008549509   &  31.1730325   & 2.472613e-213\\\\\n",
       "\t DangHoliday   &  0.359443612  & 0.046329612   &   7.7583990   &  8.600820e-15\\\\\n",
       "\t TravHoliday   & -0.041671369  & 0.035479249   &  -1.1745279   &  2.401836e-01\\\\\n",
       "\t DayNumber     &  0.400585597  & 0.015038001   &  26.6382214   & 2.450551e-156\\\\\n",
       "\t Seasonality   &  0.134562848  & 0.012680013   &  10.6122012   &  2.615145e-26\\\\\n",
       "\t MarinersHome  &  0.001929471  & 0.009884146   &   0.1952087   &  8.452296e-01\\\\\n",
       "\t SeahawksHome  & -0.074469260  & 0.030113525   &  -2.4729506   &  1.340027e-02\\\\\n",
       "\t SoundersHome  & -0.008436695  & 0.020018550   &  -0.4214439   &  6.734310e-01\\\\\n",
       "\\end{tabular}\n"
      ],
      "text/markdown": [
       "\n",
       "term | estimate | std.error | statistic | p.value | \n",
       "|---|---|---|---|---|---|---|---|---|---|---|---|---|---|---|\n",
       "| (Intercept)   |  2.041122865  | 0.016150120   | 126.3843782   |  0.000000e+00 | \n",
       "| Monday        | -0.125375421  | 0.016346114   |  -7.6700445   |  1.719367e-14 | \n",
       "| Tuesday       | -0.103880089  | 0.016304821   |  -6.3711272   |  1.876439e-10 | \n",
       "| Wednesday     | -0.107906622  | 0.016215680   |  -6.6544619   |  2.843385e-11 | \n",
       "| Thursday      | -0.085523286  | 0.016279740   |  -5.2533570   |  1.493516e-07 | \n",
       "| Friday        | -0.047103002  | 0.016006810   |  -2.9426851   |  3.253792e-03 | \n",
       "| Saturday      | -0.007414901  | 0.015757754   |  -0.4705557   |  6.379581e-01 | \n",
       "| Night         |  0.266514118  | 0.008549509   |  31.1730325   | 2.472613e-213 | \n",
       "| DangHoliday   |  0.359443612  | 0.046329612   |   7.7583990   |  8.600820e-15 | \n",
       "| TravHoliday   | -0.041671369  | 0.035479249   |  -1.1745279   |  2.401836e-01 | \n",
       "| DayNumber     |  0.400585597  | 0.015038001   |  26.6382214   | 2.450551e-156 | \n",
       "| Seasonality   |  0.134562848  | 0.012680013   |  10.6122012   |  2.615145e-26 | \n",
       "| MarinersHome  |  0.001929471  | 0.009884146   |   0.1952087   |  8.452296e-01 | \n",
       "| SeahawksHome  | -0.074469260  | 0.030113525   |  -2.4729506   |  1.340027e-02 | \n",
       "| SoundersHome  | -0.008436695  | 0.020018550   |  -0.4214439   |  6.734310e-01 | \n",
       "\n",
       "\n"
      ],
      "text/plain": [
       "   term         estimate     std.error   statistic   p.value      \n",
       "1  (Intercept)   2.041122865 0.016150120 126.3843782  0.000000e+00\n",
       "2  Monday       -0.125375421 0.016346114  -7.6700445  1.719367e-14\n",
       "3  Tuesday      -0.103880089 0.016304821  -6.3711272  1.876439e-10\n",
       "4  Wednesday    -0.107906622 0.016215680  -6.6544619  2.843385e-11\n",
       "5  Thursday     -0.085523286 0.016279740  -5.2533570  1.493516e-07\n",
       "6  Friday       -0.047103002 0.016006810  -2.9426851  3.253792e-03\n",
       "7  Saturday     -0.007414901 0.015757754  -0.4705557  6.379581e-01\n",
       "8  Night         0.266514118 0.008549509  31.1730325 2.472613e-213\n",
       "9  DangHoliday   0.359443612 0.046329612   7.7583990  8.600820e-15\n",
       "10 TravHoliday  -0.041671369 0.035479249  -1.1745279  2.401836e-01\n",
       "11 DayNumber     0.400585597 0.015038001  26.6382214 2.450551e-156\n",
       "12 Seasonality   0.134562848 0.012680013  10.6122012  2.615145e-26\n",
       "13 MarinersHome  0.001929471 0.009884146   0.1952087  8.452296e-01\n",
       "14 SeahawksHome -0.074469260 0.030113525  -2.4729506  1.340027e-02\n",
       "15 SoundersHome -0.008436695 0.020018550  -0.4214439  6.734310e-01"
      ]
     },
     "metadata": {},
     "output_type": "display_data"
    },
    {
     "data": {
      "text/html": [
       "<table>\n",
       "<thead><tr><th scope=col>null.deviance</th><th scope=col>df.null</th><th scope=col>logLik</th><th scope=col>AIC</th><th scope=col>BIC</th><th scope=col>deviance</th><th scope=col>df.residual</th></tr></thead>\n",
       "<tbody>\n",
       "\t<tr><td>10782.98 </td><td>5075     </td><td>-14874.03</td><td>29778.06 </td><td>29876.05 </td><td>8725.409 </td><td>5061     </td></tr>\n",
       "</tbody>\n",
       "</table>\n"
      ],
      "text/latex": [
       "\\begin{tabular}{r|lllllll}\n",
       " null.deviance & df.null & logLik & AIC & BIC & deviance & df.residual\\\\\n",
       "\\hline\n",
       "\t 10782.98  & 5075      & -14874.03 & 29778.06  & 29876.05  & 8725.409  & 5061     \\\\\n",
       "\\end{tabular}\n"
      ],
      "text/markdown": [
       "\n",
       "null.deviance | df.null | logLik | AIC | BIC | deviance | df.residual | \n",
       "|---|\n",
       "| 10782.98  | 5075      | -14874.03 | 29778.06  | 29876.05  | 8725.409  | 5061      | \n",
       "\n",
       "\n"
      ],
      "text/plain": [
       "  null.deviance df.null logLik    AIC      BIC      deviance df.residual\n",
       "1 10782.98      5075    -14874.03 29778.06 29876.05 8725.409 5061       "
      ]
     },
     "metadata": {},
     "output_type": "display_data"
    }
   ],
   "source": [
    "lm3 <- glm(Freq ~ ., family = 'poisson'(link=log), data = dta3)\n",
    "tidy(lm3)\n",
    "glance(lm3)"
   ]
  },
  {
   "cell_type": "code",
   "execution_count": 21,
   "metadata": {},
   "outputs": [
    {
     "data": {
      "text/html": [
       "<table>\n",
       "<thead><tr><th scope=col>term</th><th scope=col>estimate</th><th scope=col>std.error</th><th scope=col>statistic</th><th scope=col>p.value</th></tr></thead>\n",
       "<tbody>\n",
       "\t<tr><td>(Intercept)  </td><td> 2.593619344 </td><td>0.012297612  </td><td>210.9042991  </td><td> 0.000000e+00</td></tr>\n",
       "\t<tr><td>Monday       </td><td>-0.091861222 </td><td>0.012532989  </td><td> -7.3295542  </td><td> 2.309196e-13</td></tr>\n",
       "\t<tr><td>Tuesday      </td><td>-0.037054391 </td><td>0.012390427  </td><td> -2.9905661  </td><td> 2.784608e-03</td></tr>\n",
       "\t<tr><td>Wednesday    </td><td>-0.032898520 </td><td>0.012305001  </td><td> -2.6735894  </td><td> 7.504427e-03</td></tr>\n",
       "\t<tr><td>Thursday     </td><td>-0.027232535 </td><td>0.012387555  </td><td> -2.1983786  </td><td> 2.792214e-02</td></tr>\n",
       "\t<tr><td>Friday       </td><td>-0.006230870 </td><td>0.012261991  </td><td> -0.5081451  </td><td> 6.113516e-01</td></tr>\n",
       "\t<tr><td>Saturday     </td><td> 0.055549078 </td><td>0.011986566  </td><td>  4.6342778  </td><td> 3.581858e-06</td></tr>\n",
       "\t<tr><td>Night        </td><td> 0.249597164 </td><td>0.006443971  </td><td> 38.7334416  </td><td> 0.000000e+00</td></tr>\n",
       "\t<tr><td>DangHoliday  </td><td> 0.207673541 </td><td>0.037784163  </td><td>  5.4963118  </td><td> 3.878167e-08</td></tr>\n",
       "\t<tr><td>TravHoliday  </td><td>-0.024953782 </td><td>0.026318004  </td><td> -0.9481639  </td><td> 3.430460e-01</td></tr>\n",
       "\t<tr><td>DayNumber    </td><td> 0.370160324 </td><td>0.011322121  </td><td> 32.6935510  </td><td>1.928747e-234</td></tr>\n",
       "\t<tr><td>Seasonality  </td><td> 0.110729308 </td><td>0.009562459  </td><td> 11.5795852  </td><td> 5.229849e-31</td></tr>\n",
       "\t<tr><td>MarinersHome </td><td>-0.006402709 </td><td>0.007478895  </td><td> -0.8561036  </td><td> 3.919405e-01</td></tr>\n",
       "\t<tr><td>SeahawksHome </td><td>-0.041370779 </td><td>0.022691599  </td><td> -1.8231761  </td><td> 6.827673e-02</td></tr>\n",
       "\t<tr><td>SoundersHome </td><td> 0.024488881 </td><td>0.014911440  </td><td>  1.6422881  </td><td> 1.005303e-01</td></tr>\n",
       "</tbody>\n",
       "</table>\n"
      ],
      "text/latex": [
       "\\begin{tabular}{r|lllll}\n",
       " term & estimate & std.error & statistic & p.value\\\\\n",
       "\\hline\n",
       "\t (Intercept)   &  2.593619344  & 0.012297612   & 210.9042991   &  0.000000e+00\\\\\n",
       "\t Monday        & -0.091861222  & 0.012532989   &  -7.3295542   &  2.309196e-13\\\\\n",
       "\t Tuesday       & -0.037054391  & 0.012390427   &  -2.9905661   &  2.784608e-03\\\\\n",
       "\t Wednesday     & -0.032898520  & 0.012305001   &  -2.6735894   &  7.504427e-03\\\\\n",
       "\t Thursday      & -0.027232535  & 0.012387555   &  -2.1983786   &  2.792214e-02\\\\\n",
       "\t Friday        & -0.006230870  & 0.012261991   &  -0.5081451   &  6.113516e-01\\\\\n",
       "\t Saturday      &  0.055549078  & 0.011986566   &   4.6342778   &  3.581858e-06\\\\\n",
       "\t Night         &  0.249597164  & 0.006443971   &  38.7334416   &  0.000000e+00\\\\\n",
       "\t DangHoliday   &  0.207673541  & 0.037784163   &   5.4963118   &  3.878167e-08\\\\\n",
       "\t TravHoliday   & -0.024953782  & 0.026318004   &  -0.9481639   &  3.430460e-01\\\\\n",
       "\t DayNumber     &  0.370160324  & 0.011322121   &  32.6935510   & 1.928747e-234\\\\\n",
       "\t Seasonality   &  0.110729308  & 0.009562459   &  11.5795852   &  5.229849e-31\\\\\n",
       "\t MarinersHome  & -0.006402709  & 0.007478895   &  -0.8561036   &  3.919405e-01\\\\\n",
       "\t SeahawksHome  & -0.041370779  & 0.022691599   &  -1.8231761   &  6.827673e-02\\\\\n",
       "\t SoundersHome  &  0.024488881  & 0.014911440   &   1.6422881   &  1.005303e-01\\\\\n",
       "\\end{tabular}\n"
      ],
      "text/markdown": [
       "\n",
       "term | estimate | std.error | statistic | p.value | \n",
       "|---|---|---|---|---|---|---|---|---|---|---|---|---|---|---|\n",
       "| (Intercept)   |  2.593619344  | 0.012297612   | 210.9042991   |  0.000000e+00 | \n",
       "| Monday        | -0.091861222  | 0.012532989   |  -7.3295542   |  2.309196e-13 | \n",
       "| Tuesday       | -0.037054391  | 0.012390427   |  -2.9905661   |  2.784608e-03 | \n",
       "| Wednesday     | -0.032898520  | 0.012305001   |  -2.6735894   |  7.504427e-03 | \n",
       "| Thursday      | -0.027232535  | 0.012387555   |  -2.1983786   |  2.792214e-02 | \n",
       "| Friday        | -0.006230870  | 0.012261991   |  -0.5081451   |  6.113516e-01 | \n",
       "| Saturday      |  0.055549078  | 0.011986566   |   4.6342778   |  3.581858e-06 | \n",
       "| Night         |  0.249597164  | 0.006443971   |  38.7334416   |  0.000000e+00 | \n",
       "| DangHoliday   |  0.207673541  | 0.037784163   |   5.4963118   |  3.878167e-08 | \n",
       "| TravHoliday   | -0.024953782  | 0.026318004   |  -0.9481639   |  3.430460e-01 | \n",
       "| DayNumber     |  0.370160324  | 0.011322121   |  32.6935510   | 1.928747e-234 | \n",
       "| Seasonality   |  0.110729308  | 0.009562459   |  11.5795852   |  5.229849e-31 | \n",
       "| MarinersHome  | -0.006402709  | 0.007478895   |  -0.8561036   |  3.919405e-01 | \n",
       "| SeahawksHome  | -0.041370779  | 0.022691599   |  -1.8231761   |  6.827673e-02 | \n",
       "| SoundersHome  |  0.024488881  | 0.014911440   |   1.6422881   |  1.005303e-01 | \n",
       "\n",
       "\n"
      ],
      "text/plain": [
       "   term         estimate     std.error   statistic   p.value      \n",
       "1  (Intercept)   2.593619344 0.012297612 210.9042991  0.000000e+00\n",
       "2  Monday       -0.091861222 0.012532989  -7.3295542  2.309196e-13\n",
       "3  Tuesday      -0.037054391 0.012390427  -2.9905661  2.784608e-03\n",
       "4  Wednesday    -0.032898520 0.012305001  -2.6735894  7.504427e-03\n",
       "5  Thursday     -0.027232535 0.012387555  -2.1983786  2.792214e-02\n",
       "6  Friday       -0.006230870 0.012261991  -0.5081451  6.113516e-01\n",
       "7  Saturday      0.055549078 0.011986566   4.6342778  3.581858e-06\n",
       "8  Night         0.249597164 0.006443971  38.7334416  0.000000e+00\n",
       "9  DangHoliday   0.207673541 0.037784163   5.4963118  3.878167e-08\n",
       "10 TravHoliday  -0.024953782 0.026318004  -0.9481639  3.430460e-01\n",
       "11 DayNumber     0.370160324 0.011322121  32.6935510 1.928747e-234\n",
       "12 Seasonality   0.110729308 0.009562459  11.5795852  5.229849e-31\n",
       "13 MarinersHome -0.006402709 0.007478895  -0.8561036  3.919405e-01\n",
       "14 SeahawksHome -0.041370779 0.022691599  -1.8231761  6.827673e-02\n",
       "15 SoundersHome  0.024488881 0.014911440   1.6422881  1.005303e-01"
      ]
     },
     "metadata": {},
     "output_type": "display_data"
    },
    {
     "data": {
      "text/html": [
       "<table>\n",
       "<thead><tr><th scope=col>null.deviance</th><th scope=col>df.null</th><th scope=col>logLik</th><th scope=col>AIC</th><th scope=col>BIC</th><th scope=col>deviance</th><th scope=col>df.residual</th></tr></thead>\n",
       "<tbody>\n",
       "\t<tr><td>14099.26 </td><td>5088     </td><td>-17554.63</td><td>35139.26 </td><td>35237.28 </td><td>11084.03 </td><td>5074     </td></tr>\n",
       "</tbody>\n",
       "</table>\n"
      ],
      "text/latex": [
       "\\begin{tabular}{r|lllllll}\n",
       " null.deviance & df.null & logLik & AIC & BIC & deviance & df.residual\\\\\n",
       "\\hline\n",
       "\t 14099.26  & 5088      & -17554.63 & 35139.26  & 35237.28  & 11084.03  & 5074     \\\\\n",
       "\\end{tabular}\n"
      ],
      "text/markdown": [
       "\n",
       "null.deviance | df.null | logLik | AIC | BIC | deviance | df.residual | \n",
       "|---|\n",
       "| 14099.26  | 5088      | -17554.63 | 35139.26  | 35237.28  | 11084.03  | 5074      | \n",
       "\n",
       "\n"
      ],
      "text/plain": [
       "  null.deviance df.null logLik    AIC      BIC      deviance df.residual\n",
       "1 14099.26      5088    -17554.63 35139.26 35237.28 11084.03 5074       "
      ]
     },
     "metadata": {},
     "output_type": "display_data"
    }
   ],
   "source": [
    "lm4 <- glm(Freq ~ ., family = 'poisson'(link=log), data = dta4)\n",
    "tidy(lm4)\n",
    "glance(lm4)"
   ]
  },
  {
   "cell_type": "code",
   "execution_count": 22,
   "metadata": {},
   "outputs": [
    {
     "data": {
      "text/html": [
       "<table>\n",
       "<thead><tr><th scope=col>term</th><th scope=col>estimate</th><th scope=col>std.error</th><th scope=col>statistic</th><th scope=col>p.value</th></tr></thead>\n",
       "<tbody>\n",
       "\t<tr><td>(Intercept) </td><td> 2.799935761</td><td>0.010595102 </td><td>264.2669839 </td><td>0.000000e+00</td></tr>\n",
       "\t<tr><td>Monday      </td><td>-0.147818367</td><td>0.010755053 </td><td>-13.7440851 </td><td>5.526729e-43</td></tr>\n",
       "\t<tr><td>Tuesday     </td><td>-0.091554430</td><td>0.010626134 </td><td> -8.6159677 </td><td>6.935332e-18</td></tr>\n",
       "\t<tr><td>Wednesday   </td><td>-0.079712058</td><td>0.010534137 </td><td> -7.5670230 </td><td>3.818743e-14</td></tr>\n",
       "\t<tr><td>Thursday    </td><td>-0.057219834</td><td>0.010565093 </td><td> -5.4159331 </td><td>6.096990e-08</td></tr>\n",
       "\t<tr><td>Friday      </td><td>-0.052162740</td><td>0.010485249 </td><td> -4.9748692 </td><td>6.529170e-07</td></tr>\n",
       "\t<tr><td>Saturday    </td><td> 0.021641751</td><td>0.010223633 </td><td>  2.1168357 </td><td>3.427379e-02</td></tr>\n",
       "\t<tr><td>Night       </td><td> 0.294076567</td><td>0.005573530 </td><td> 52.7630763 </td><td>0.000000e+00</td></tr>\n",
       "\t<tr><td>DangHoliday </td><td> 0.268451591</td><td>0.031667435 </td><td>  8.4772131 </td><td>2.306523e-17</td></tr>\n",
       "\t<tr><td>TravHoliday </td><td>-0.018479615</td><td>0.022602641 </td><td> -0.8175865 </td><td>4.135933e-01</td></tr>\n",
       "\t<tr><td>DayNumber   </td><td> 0.597178660</td><td>0.009825862 </td><td> 60.7762098 </td><td>0.000000e+00</td></tr>\n",
       "\t<tr><td>Seasonality </td><td> 0.067380752</td><td>0.008248993 </td><td>  8.1683608 </td><td>3.126077e-16</td></tr>\n",
       "\t<tr><td>MarinersHome</td><td> 0.003009139</td><td>0.006440753 </td><td>  0.4672030 </td><td>6.403547e-01</td></tr>\n",
       "\t<tr><td>SeahawksHome</td><td>-0.052071448</td><td>0.019363795 </td><td> -2.6891139 </td><td>7.164198e-03</td></tr>\n",
       "\t<tr><td>SoundersHome</td><td> 0.009232162</td><td>0.012910598 </td><td>  0.7150840 </td><td>4.745571e-01</td></tr>\n",
       "</tbody>\n",
       "</table>\n"
      ],
      "text/latex": [
       "\\begin{tabular}{r|lllll}\n",
       " term & estimate & std.error & statistic & p.value\\\\\n",
       "\\hline\n",
       "\t (Intercept)  &  2.799935761 & 0.010595102  & 264.2669839  & 0.000000e+00\\\\\n",
       "\t Monday       & -0.147818367 & 0.010755053  & -13.7440851  & 5.526729e-43\\\\\n",
       "\t Tuesday      & -0.091554430 & 0.010626134  &  -8.6159677  & 6.935332e-18\\\\\n",
       "\t Wednesday    & -0.079712058 & 0.010534137  &  -7.5670230  & 3.818743e-14\\\\\n",
       "\t Thursday     & -0.057219834 & 0.010565093  &  -5.4159331  & 6.096990e-08\\\\\n",
       "\t Friday       & -0.052162740 & 0.010485249  &  -4.9748692  & 6.529170e-07\\\\\n",
       "\t Saturday     &  0.021641751 & 0.010223633  &   2.1168357  & 3.427379e-02\\\\\n",
       "\t Night        &  0.294076567 & 0.005573530  &  52.7630763  & 0.000000e+00\\\\\n",
       "\t DangHoliday  &  0.268451591 & 0.031667435  &   8.4772131  & 2.306523e-17\\\\\n",
       "\t TravHoliday  & -0.018479615 & 0.022602641  &  -0.8175865  & 4.135933e-01\\\\\n",
       "\t DayNumber    &  0.597178660 & 0.009825862  &  60.7762098  & 0.000000e+00\\\\\n",
       "\t Seasonality  &  0.067380752 & 0.008248993  &   8.1683608  & 3.126077e-16\\\\\n",
       "\t MarinersHome &  0.003009139 & 0.006440753  &   0.4672030  & 6.403547e-01\\\\\n",
       "\t SeahawksHome & -0.052071448 & 0.019363795  &  -2.6891139  & 7.164198e-03\\\\\n",
       "\t SoundersHome &  0.009232162 & 0.012910598  &   0.7150840  & 4.745571e-01\\\\\n",
       "\\end{tabular}\n"
      ],
      "text/markdown": [
       "\n",
       "term | estimate | std.error | statistic | p.value | \n",
       "|---|---|---|---|---|---|---|---|---|---|---|---|---|---|---|\n",
       "| (Intercept)  |  2.799935761 | 0.010595102  | 264.2669839  | 0.000000e+00 | \n",
       "| Monday       | -0.147818367 | 0.010755053  | -13.7440851  | 5.526729e-43 | \n",
       "| Tuesday      | -0.091554430 | 0.010626134  |  -8.6159677  | 6.935332e-18 | \n",
       "| Wednesday    | -0.079712058 | 0.010534137  |  -7.5670230  | 3.818743e-14 | \n",
       "| Thursday     | -0.057219834 | 0.010565093  |  -5.4159331  | 6.096990e-08 | \n",
       "| Friday       | -0.052162740 | 0.010485249  |  -4.9748692  | 6.529170e-07 | \n",
       "| Saturday     |  0.021641751 | 0.010223633  |   2.1168357  | 3.427379e-02 | \n",
       "| Night        |  0.294076567 | 0.005573530  |  52.7630763  | 0.000000e+00 | \n",
       "| DangHoliday  |  0.268451591 | 0.031667435  |   8.4772131  | 2.306523e-17 | \n",
       "| TravHoliday  | -0.018479615 | 0.022602641  |  -0.8175865  | 4.135933e-01 | \n",
       "| DayNumber    |  0.597178660 | 0.009825862  |  60.7762098  | 0.000000e+00 | \n",
       "| Seasonality  |  0.067380752 | 0.008248993  |   8.1683608  | 3.126077e-16 | \n",
       "| MarinersHome |  0.003009139 | 0.006440753  |   0.4672030  | 6.403547e-01 | \n",
       "| SeahawksHome | -0.052071448 | 0.019363795  |  -2.6891139  | 7.164198e-03 | \n",
       "| SoundersHome |  0.009232162 | 0.012910598  |   0.7150840  | 4.745571e-01 | \n",
       "\n",
       "\n"
      ],
      "text/plain": [
       "   term         estimate     std.error   statistic   p.value     \n",
       "1  (Intercept)   2.799935761 0.010595102 264.2669839 0.000000e+00\n",
       "2  Monday       -0.147818367 0.010755053 -13.7440851 5.526729e-43\n",
       "3  Tuesday      -0.091554430 0.010626134  -8.6159677 6.935332e-18\n",
       "4  Wednesday    -0.079712058 0.010534137  -7.5670230 3.818743e-14\n",
       "5  Thursday     -0.057219834 0.010565093  -5.4159331 6.096990e-08\n",
       "6  Friday       -0.052162740 0.010485249  -4.9748692 6.529170e-07\n",
       "7  Saturday      0.021641751 0.010223633   2.1168357 3.427379e-02\n",
       "8  Night         0.294076567 0.005573530  52.7630763 0.000000e+00\n",
       "9  DangHoliday   0.268451591 0.031667435   8.4772131 2.306523e-17\n",
       "10 TravHoliday  -0.018479615 0.022602641  -0.8175865 4.135933e-01\n",
       "11 DayNumber     0.597178660 0.009825862  60.7762098 0.000000e+00\n",
       "12 Seasonality   0.067380752 0.008248993   8.1683608 3.126077e-16\n",
       "13 MarinersHome  0.003009139 0.006440753   0.4672030 6.403547e-01\n",
       "14 SeahawksHome -0.052071448 0.019363795  -2.6891139 7.164198e-03\n",
       "15 SoundersHome  0.009232162 0.012910598   0.7150840 4.745571e-01"
      ]
     },
     "metadata": {},
     "output_type": "display_data"
    },
    {
     "data": {
      "text/html": [
       "<table>\n",
       "<thead><tr><th scope=col>null.deviance</th><th scope=col>df.null</th><th scope=col>logLik</th><th scope=col>AIC</th><th scope=col>BIC</th><th scope=col>deviance</th><th scope=col>df.residual</th></tr></thead>\n",
       "<tbody>\n",
       "\t<tr><td>21593.59 </td><td>5091     </td><td>-19937.05</td><td>39904.11 </td><td>40002.14 </td><td>14407.03 </td><td>5077     </td></tr>\n",
       "</tbody>\n",
       "</table>\n"
      ],
      "text/latex": [
       "\\begin{tabular}{r|lllllll}\n",
       " null.deviance & df.null & logLik & AIC & BIC & deviance & df.residual\\\\\n",
       "\\hline\n",
       "\t 21593.59  & 5091      & -19937.05 & 39904.11  & 40002.14  & 14407.03  & 5077     \\\\\n",
       "\\end{tabular}\n"
      ],
      "text/markdown": [
       "\n",
       "null.deviance | df.null | logLik | AIC | BIC | deviance | df.residual | \n",
       "|---|\n",
       "| 21593.59  | 5091      | -19937.05 | 39904.11  | 40002.14  | 14407.03  | 5077      | \n",
       "\n",
       "\n"
      ],
      "text/plain": [
       "  null.deviance df.null logLik    AIC      BIC      deviance df.residual\n",
       "1 21593.59      5091    -19937.05 39904.11 40002.14 14407.03 5077       "
      ]
     },
     "metadata": {},
     "output_type": "display_data"
    }
   ],
   "source": [
    "lm5 <- glm(Freq ~ ., family = 'poisson'(link=log), data = dta5)\n",
    "tidy(lm5)\n",
    "glance(lm5)"
   ]
  },
  {
   "cell_type": "code",
   "execution_count": 23,
   "metadata": {},
   "outputs": [
    {
     "data": {
      "text/html": [
       "<table>\n",
       "<thead><tr><th scope=col>term</th><th scope=col>estimate</th><th scope=col>std.error</th><th scope=col>statistic</th><th scope=col>p.value</th></tr></thead>\n",
       "<tbody>\n",
       "\t<tr><td>(Intercept)  </td><td> 2.2319121673</td><td>0.014904224  </td><td>149.75031124 </td><td> 0.000000e+00</td></tr>\n",
       "\t<tr><td>Monday       </td><td>-0.0257978432</td><td>0.014974843  </td><td> -1.72274548 </td><td> 8.493456e-02</td></tr>\n",
       "\t<tr><td>Tuesday      </td><td>-0.0008203571</td><td>0.014918050  </td><td> -0.05499091 </td><td> 9.561457e-01</td></tr>\n",
       "\t<tr><td>Wednesday    </td><td>-0.0229411539</td><td>0.014911360  </td><td> -1.53850183 </td><td> 1.239260e-01</td></tr>\n",
       "\t<tr><td>Thursday     </td><td>-0.0483572404</td><td>0.015108737  </td><td> -3.20061427 </td><td> 1.371350e-03</td></tr>\n",
       "\t<tr><td>Friday       </td><td>-0.0263782779</td><td>0.014959046  </td><td> -1.76336628 </td><td> 7.783873e-02</td></tr>\n",
       "\t<tr><td>Saturday     </td><td> 0.0050745755</td><td>0.014759948  </td><td>  0.34380714 </td><td> 7.309913e-01</td></tr>\n",
       "\t<tr><td>Night        </td><td> 0.2935804920</td><td>0.007836732  </td><td> 37.46210484 </td><td>3.815766e-307</td></tr>\n",
       "\t<tr><td>DangHoliday  </td><td> 0.1245302649</td><td>0.047715746  </td><td>  2.60983587 </td><td> 9.058567e-03</td></tr>\n",
       "\t<tr><td>TravHoliday  </td><td> 0.0835820644</td><td>0.030192664  </td><td>  2.76829048 </td><td> 5.635120e-03</td></tr>\n",
       "\t<tr><td>DayNumber    </td><td> 0.2803333577</td><td>0.013715547  </td><td> 20.43909472 </td><td> 7.511962e-93</td></tr>\n",
       "\t<tr><td>Seasonality  </td><td> 0.1004049767</td><td>0.011601105  </td><td>  8.65477673 </td><td> 4.938775e-18</td></tr>\n",
       "\t<tr><td>MarinersHome </td><td> 0.0035176091</td><td>0.009077565  </td><td>  0.38750579 </td><td> 6.983818e-01</td></tr>\n",
       "\t<tr><td>SeahawksHome </td><td>-0.0124748920</td><td>0.027158654  </td><td> -0.45933396 </td><td> 6.459944e-01</td></tr>\n",
       "\t<tr><td>SoundersHome </td><td>-0.0284849685</td><td>0.018736715  </td><td> -1.52027553 </td><td> 1.284417e-01</td></tr>\n",
       "</tbody>\n",
       "</table>\n"
      ],
      "text/latex": [
       "\\begin{tabular}{r|lllll}\n",
       " term & estimate & std.error & statistic & p.value\\\\\n",
       "\\hline\n",
       "\t (Intercept)   &  2.2319121673 & 0.014904224   & 149.75031124  &  0.000000e+00\\\\\n",
       "\t Monday        & -0.0257978432 & 0.014974843   &  -1.72274548  &  8.493456e-02\\\\\n",
       "\t Tuesday       & -0.0008203571 & 0.014918050   &  -0.05499091  &  9.561457e-01\\\\\n",
       "\t Wednesday     & -0.0229411539 & 0.014911360   &  -1.53850183  &  1.239260e-01\\\\\n",
       "\t Thursday      & -0.0483572404 & 0.015108737   &  -3.20061427  &  1.371350e-03\\\\\n",
       "\t Friday        & -0.0263782779 & 0.014959046   &  -1.76336628  &  7.783873e-02\\\\\n",
       "\t Saturday      &  0.0050745755 & 0.014759948   &   0.34380714  &  7.309913e-01\\\\\n",
       "\t Night         &  0.2935804920 & 0.007836732   &  37.46210484  & 3.815766e-307\\\\\n",
       "\t DangHoliday   &  0.1245302649 & 0.047715746   &   2.60983587  &  9.058567e-03\\\\\n",
       "\t TravHoliday   &  0.0835820644 & 0.030192664   &   2.76829048  &  5.635120e-03\\\\\n",
       "\t DayNumber     &  0.2803333577 & 0.013715547   &  20.43909472  &  7.511962e-93\\\\\n",
       "\t Seasonality   &  0.1004049767 & 0.011601105   &   8.65477673  &  4.938775e-18\\\\\n",
       "\t MarinersHome  &  0.0035176091 & 0.009077565   &   0.38750579  &  6.983818e-01\\\\\n",
       "\t SeahawksHome  & -0.0124748920 & 0.027158654   &  -0.45933396  &  6.459944e-01\\\\\n",
       "\t SoundersHome  & -0.0284849685 & 0.018736715   &  -1.52027553  &  1.284417e-01\\\\\n",
       "\\end{tabular}\n"
      ],
      "text/markdown": [
       "\n",
       "term | estimate | std.error | statistic | p.value | \n",
       "|---|---|---|---|---|---|---|---|---|---|---|---|---|---|---|\n",
       "| (Intercept)   |  2.2319121673 | 0.014904224   | 149.75031124  |  0.000000e+00 | \n",
       "| Monday        | -0.0257978432 | 0.014974843   |  -1.72274548  |  8.493456e-02 | \n",
       "| Tuesday       | -0.0008203571 | 0.014918050   |  -0.05499091  |  9.561457e-01 | \n",
       "| Wednesday     | -0.0229411539 | 0.014911360   |  -1.53850183  |  1.239260e-01 | \n",
       "| Thursday      | -0.0483572404 | 0.015108737   |  -3.20061427  |  1.371350e-03 | \n",
       "| Friday        | -0.0263782779 | 0.014959046   |  -1.76336628  |  7.783873e-02 | \n",
       "| Saturday      |  0.0050745755 | 0.014759948   |   0.34380714  |  7.309913e-01 | \n",
       "| Night         |  0.2935804920 | 0.007836732   |  37.46210484  | 3.815766e-307 | \n",
       "| DangHoliday   |  0.1245302649 | 0.047715746   |   2.60983587  |  9.058567e-03 | \n",
       "| TravHoliday   |  0.0835820644 | 0.030192664   |   2.76829048  |  5.635120e-03 | \n",
       "| DayNumber     |  0.2803333577 | 0.013715547   |  20.43909472  |  7.511962e-93 | \n",
       "| Seasonality   |  0.1004049767 | 0.011601105   |   8.65477673  |  4.938775e-18 | \n",
       "| MarinersHome  |  0.0035176091 | 0.009077565   |   0.38750579  |  6.983818e-01 | \n",
       "| SeahawksHome  | -0.0124748920 | 0.027158654   |  -0.45933396  |  6.459944e-01 | \n",
       "| SoundersHome  | -0.0284849685 | 0.018736715   |  -1.52027553  |  1.284417e-01 | \n",
       "\n",
       "\n"
      ],
      "text/plain": [
       "   term         estimate      std.error   statistic    p.value      \n",
       "1  (Intercept)   2.2319121673 0.014904224 149.75031124  0.000000e+00\n",
       "2  Monday       -0.0257978432 0.014974843  -1.72274548  8.493456e-02\n",
       "3  Tuesday      -0.0008203571 0.014918050  -0.05499091  9.561457e-01\n",
       "4  Wednesday    -0.0229411539 0.014911360  -1.53850183  1.239260e-01\n",
       "5  Thursday     -0.0483572404 0.015108737  -3.20061427  1.371350e-03\n",
       "6  Friday       -0.0263782779 0.014959046  -1.76336628  7.783873e-02\n",
       "7  Saturday      0.0050745755 0.014759948   0.34380714  7.309913e-01\n",
       "8  Night         0.2935804920 0.007836732  37.46210484 3.815766e-307\n",
       "9  DangHoliday   0.1245302649 0.047715746   2.60983587  9.058567e-03\n",
       "10 TravHoliday   0.0835820644 0.030192664   2.76829048  5.635120e-03\n",
       "11 DayNumber     0.2803333577 0.013715547  20.43909472  7.511962e-93\n",
       "12 Seasonality   0.1004049767 0.011601105   8.65477673  4.938775e-18\n",
       "13 MarinersHome  0.0035176091 0.009077565   0.38750579  6.983818e-01\n",
       "14 SeahawksHome -0.0124748920 0.027158654  -0.45933396  6.459944e-01\n",
       "15 SoundersHome -0.0284849685 0.018736715  -1.52027553  1.284417e-01"
      ]
     },
     "metadata": {},
     "output_type": "display_data"
    },
    {
     "data": {
      "text/html": [
       "<table>\n",
       "<thead><tr><th scope=col>null.deviance</th><th scope=col>df.null</th><th scope=col>logLik</th><th scope=col>AIC</th><th scope=col>BIC</th><th scope=col>deviance</th><th scope=col>df.residual</th></tr></thead>\n",
       "<tbody>\n",
       "\t<tr><td>11763.68 </td><td>5088     </td><td>-15889.47</td><td>31808.93 </td><td>31906.95 </td><td>9780.897 </td><td>5074     </td></tr>\n",
       "</tbody>\n",
       "</table>\n"
      ],
      "text/latex": [
       "\\begin{tabular}{r|lllllll}\n",
       " null.deviance & df.null & logLik & AIC & BIC & deviance & df.residual\\\\\n",
       "\\hline\n",
       "\t 11763.68  & 5088      & -15889.47 & 31808.93  & 31906.95  & 9780.897  & 5074     \\\\\n",
       "\\end{tabular}\n"
      ],
      "text/markdown": [
       "\n",
       "null.deviance | df.null | logLik | AIC | BIC | deviance | df.residual | \n",
       "|---|\n",
       "| 11763.68  | 5088      | -15889.47 | 31808.93  | 31906.95  | 9780.897  | 5074      | \n",
       "\n",
       "\n"
      ],
      "text/plain": [
       "  null.deviance df.null logLik    AIC      BIC      deviance df.residual\n",
       "1 11763.68      5088    -15889.47 31808.93 31906.95 9780.897 5074       "
      ]
     },
     "metadata": {},
     "output_type": "display_data"
    }
   ],
   "source": [
    "lm6 <- glm(Freq ~ ., family = 'poisson'(link=log), data = dta6)\n",
    "tidy(lm6)\n",
    "glance(lm6)"
   ]
  },
  {
   "cell_type": "code",
   "execution_count": 24,
   "metadata": {},
   "outputs": [
    {
     "data": {
      "text/html": [
       "<table>\n",
       "<thead><tr><th scope=col>term</th><th scope=col>estimate</th><th scope=col>std.error</th><th scope=col>statistic</th><th scope=col>p.value</th></tr></thead>\n",
       "<tbody>\n",
       "\t<tr><td>(Intercept)  </td><td> 2.55954072  </td><td>0.012549831  </td><td>203.9502212  </td><td> 0.000000e+00</td></tr>\n",
       "\t<tr><td>Monday       </td><td>-0.07163731  </td><td>0.012737059  </td><td> -5.6243209  </td><td> 1.862392e-08</td></tr>\n",
       "\t<tr><td>Tuesday      </td><td>-0.02028813  </td><td>0.012604125  </td><td> -1.6096419  </td><td> 1.074760e-01</td></tr>\n",
       "\t<tr><td>Wednesday    </td><td>-0.00375912  </td><td>0.012482249  </td><td> -0.3011572  </td><td> 7.632946e-01</td></tr>\n",
       "\t<tr><td>Thursday     </td><td>-0.01257491  </td><td>0.012616519  </td><td> -0.9967021  </td><td> 3.189091e-01</td></tr>\n",
       "\t<tr><td>Friday       </td><td>-0.03341956  </td><td>0.012596560  </td><td> -2.6530701  </td><td> 7.976329e-03</td></tr>\n",
       "\t<tr><td>Saturday     </td><td> 0.03986253  </td><td>0.012313047  </td><td>  3.2374220  </td><td> 1.206149e-03</td></tr>\n",
       "\t<tr><td>Night        </td><td> 0.31352027  </td><td>0.006594127  </td><td> 47.5453816  </td><td> 0.000000e+00</td></tr>\n",
       "\t<tr><td>DangHoliday  </td><td> 0.09893774  </td><td>0.040591895  </td><td>  2.4373768  </td><td> 1.479426e-02</td></tr>\n",
       "\t<tr><td>TravHoliday  </td><td>-0.04133643  </td><td>0.026967458  </td><td> -1.5328263  </td><td> 1.253187e-01</td></tr>\n",
       "\t<tr><td>DayNumber    </td><td> 0.27204255  </td><td>0.011511856  </td><td> 23.6315120  </td><td>1.828748e-123</td></tr>\n",
       "\t<tr><td>Seasonality  </td><td> 0.11954402  </td><td>0.009743394  </td><td> 12.2692388  </td><td> 1.324931e-34</td></tr>\n",
       "\t<tr><td>MarinersHome </td><td> 0.01270048  </td><td>0.007599543  </td><td>  1.6712159  </td><td> 9.467904e-02</td></tr>\n",
       "\t<tr><td>SeahawksHome </td><td>-0.04089369  </td><td>0.023207104  </td><td> -1.7621195  </td><td> 7.804910e-02</td></tr>\n",
       "\t<tr><td>SoundersHome </td><td>-0.02110731  </td><td>0.015523723  </td><td> -1.3596807  </td><td> 1.739310e-01</td></tr>\n",
       "</tbody>\n",
       "</table>\n"
      ],
      "text/latex": [
       "\\begin{tabular}{r|lllll}\n",
       " term & estimate & std.error & statistic & p.value\\\\\n",
       "\\hline\n",
       "\t (Intercept)   &  2.55954072   & 0.012549831   & 203.9502212   &  0.000000e+00\\\\\n",
       "\t Monday        & -0.07163731   & 0.012737059   &  -5.6243209   &  1.862392e-08\\\\\n",
       "\t Tuesday       & -0.02028813   & 0.012604125   &  -1.6096419   &  1.074760e-01\\\\\n",
       "\t Wednesday     & -0.00375912   & 0.012482249   &  -0.3011572   &  7.632946e-01\\\\\n",
       "\t Thursday      & -0.01257491   & 0.012616519   &  -0.9967021   &  3.189091e-01\\\\\n",
       "\t Friday        & -0.03341956   & 0.012596560   &  -2.6530701   &  7.976329e-03\\\\\n",
       "\t Saturday      &  0.03986253   & 0.012313047   &   3.2374220   &  1.206149e-03\\\\\n",
       "\t Night         &  0.31352027   & 0.006594127   &  47.5453816   &  0.000000e+00\\\\\n",
       "\t DangHoliday   &  0.09893774   & 0.040591895   &   2.4373768   &  1.479426e-02\\\\\n",
       "\t TravHoliday   & -0.04133643   & 0.026967458   &  -1.5328263   &  1.253187e-01\\\\\n",
       "\t DayNumber     &  0.27204255   & 0.011511856   &  23.6315120   & 1.828748e-123\\\\\n",
       "\t Seasonality   &  0.11954402   & 0.009743394   &  12.2692388   &  1.324931e-34\\\\\n",
       "\t MarinersHome  &  0.01270048   & 0.007599543   &   1.6712159   &  9.467904e-02\\\\\n",
       "\t SeahawksHome  & -0.04089369   & 0.023207104   &  -1.7621195   &  7.804910e-02\\\\\n",
       "\t SoundersHome  & -0.02110731   & 0.015523723   &  -1.3596807   &  1.739310e-01\\\\\n",
       "\\end{tabular}\n"
      ],
      "text/markdown": [
       "\n",
       "term | estimate | std.error | statistic | p.value | \n",
       "|---|---|---|---|---|---|---|---|---|---|---|---|---|---|---|\n",
       "| (Intercept)   |  2.55954072   | 0.012549831   | 203.9502212   |  0.000000e+00 | \n",
       "| Monday        | -0.07163731   | 0.012737059   |  -5.6243209   |  1.862392e-08 | \n",
       "| Tuesday       | -0.02028813   | 0.012604125   |  -1.6096419   |  1.074760e-01 | \n",
       "| Wednesday     | -0.00375912   | 0.012482249   |  -0.3011572   |  7.632946e-01 | \n",
       "| Thursday      | -0.01257491   | 0.012616519   |  -0.9967021   |  3.189091e-01 | \n",
       "| Friday        | -0.03341956   | 0.012596560   |  -2.6530701   |  7.976329e-03 | \n",
       "| Saturday      |  0.03986253   | 0.012313047   |   3.2374220   |  1.206149e-03 | \n",
       "| Night         |  0.31352027   | 0.006594127   |  47.5453816   |  0.000000e+00 | \n",
       "| DangHoliday   |  0.09893774   | 0.040591895   |   2.4373768   |  1.479426e-02 | \n",
       "| TravHoliday   | -0.04133643   | 0.026967458   |  -1.5328263   |  1.253187e-01 | \n",
       "| DayNumber     |  0.27204255   | 0.011511856   |  23.6315120   | 1.828748e-123 | \n",
       "| Seasonality   |  0.11954402   | 0.009743394   |  12.2692388   |  1.324931e-34 | \n",
       "| MarinersHome  |  0.01270048   | 0.007599543   |   1.6712159   |  9.467904e-02 | \n",
       "| SeahawksHome  | -0.04089369   | 0.023207104   |  -1.7621195   |  7.804910e-02 | \n",
       "| SoundersHome  | -0.02110731   | 0.015523723   |  -1.3596807   |  1.739310e-01 | \n",
       "\n",
       "\n"
      ],
      "text/plain": [
       "   term         estimate    std.error   statistic   p.value      \n",
       "1  (Intercept)   2.55954072 0.012549831 203.9502212  0.000000e+00\n",
       "2  Monday       -0.07163731 0.012737059  -5.6243209  1.862392e-08\n",
       "3  Tuesday      -0.02028813 0.012604125  -1.6096419  1.074760e-01\n",
       "4  Wednesday    -0.00375912 0.012482249  -0.3011572  7.632946e-01\n",
       "5  Thursday     -0.01257491 0.012616519  -0.9967021  3.189091e-01\n",
       "6  Friday       -0.03341956 0.012596560  -2.6530701  7.976329e-03\n",
       "7  Saturday      0.03986253 0.012313047   3.2374220  1.206149e-03\n",
       "8  Night         0.31352027 0.006594127  47.5453816  0.000000e+00\n",
       "9  DangHoliday   0.09893774 0.040591895   2.4373768  1.479426e-02\n",
       "10 TravHoliday  -0.04133643 0.026967458  -1.5328263  1.253187e-01\n",
       "11 DayNumber     0.27204255 0.011511856  23.6315120 1.828748e-123\n",
       "12 Seasonality   0.11954402 0.009743394  12.2692388  1.324931e-34\n",
       "13 MarinersHome  0.01270048 0.007599543   1.6712159  9.467904e-02\n",
       "14 SeahawksHome -0.04089369 0.023207104  -1.7621195  7.804910e-02\n",
       "15 SoundersHome -0.02110731 0.015523723  -1.3596807  1.739310e-01"
      ]
     },
     "metadata": {},
     "output_type": "display_data"
    },
    {
     "data": {
      "text/html": [
       "<table>\n",
       "<thead><tr><th scope=col>null.deviance</th><th scope=col>df.null</th><th scope=col>logLik</th><th scope=col>AIC</th><th scope=col>BIC</th><th scope=col>deviance</th><th scope=col>df.residual</th></tr></thead>\n",
       "<tbody>\n",
       "\t<tr><td>15411.76 </td><td>5089     </td><td>-18007.28</td><td>36044.57 </td><td>36142.59 </td><td>12220.44 </td><td>5075     </td></tr>\n",
       "</tbody>\n",
       "</table>\n"
      ],
      "text/latex": [
       "\\begin{tabular}{r|lllllll}\n",
       " null.deviance & df.null & logLik & AIC & BIC & deviance & df.residual\\\\\n",
       "\\hline\n",
       "\t 15411.76  & 5089      & -18007.28 & 36044.57  & 36142.59  & 12220.44  & 5075     \\\\\n",
       "\\end{tabular}\n"
      ],
      "text/markdown": [
       "\n",
       "null.deviance | df.null | logLik | AIC | BIC | deviance | df.residual | \n",
       "|---|\n",
       "| 15411.76  | 5089      | -18007.28 | 36044.57  | 36142.59  | 12220.44  | 5075      | \n",
       "\n",
       "\n"
      ],
      "text/plain": [
       "  null.deviance df.null logLik    AIC      BIC      deviance df.residual\n",
       "1 15411.76      5089    -18007.28 36044.57 36142.59 12220.44 5075       "
      ]
     },
     "metadata": {},
     "output_type": "display_data"
    }
   ],
   "source": [
    "lm7 <- glm(Freq ~ ., family = 'poisson'(link=log), data = dta7)\n",
    "tidy(lm7)\n",
    "glance(lm7)"
   ]
  },
  {
   "cell_type": "code",
   "execution_count": null,
   "metadata": {
    "collapsed": true
   },
   "outputs": [],
   "source": []
  }
 ],
 "metadata": {
  "kernelspec": {
   "display_name": "R",
   "language": "R",
   "name": "ir"
  },
  "language_info": {
   "codemirror_mode": "r",
   "file_extension": ".r",
   "mimetype": "text/x-r-source",
   "name": "R",
   "pygments_lexer": "r",
   "version": "3.4.0"
  }
 },
 "nbformat": 4,
 "nbformat_minor": 2
}
