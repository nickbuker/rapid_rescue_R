{
 "cells": [
  {
   "cell_type": "code",
   "execution_count": 1,
   "metadata": {
    "collapsed": true
   },
   "outputs": [],
   "source": [
    "library('tidyr')"
   ]
  },
  {
   "cell_type": "code",
   "execution_count": 8,
   "metadata": {
    "collapsed": true
   },
   "outputs": [],
   "source": [
    "df <- read.csv('../data//seattle_911_raw.csv')\n",
    "df <- df[-1,]"
   ]
  },
  {
   "cell_type": "code",
   "execution_count": 9,
   "metadata": {},
   "outputs": [
    {
     "data": {
      "text/html": [
       "<table>\n",
       "<thead><tr><th></th><th scope=col>Address</th><th scope=col>Type</th><th scope=col>Datetime</th><th scope=col>Latitude</th><th scope=col>Longitude</th><th scope=col>Report.Location</th><th scope=col>Incident.Number</th></tr></thead>\n",
       "<tbody>\n",
       "\t<tr><th scope=row>2</th><td>6900 37th Av S              </td><td>Medic Response              </td><td>11/09/2011 11:33:00 PM +0000</td><td>47.54068                    </td><td>-122.2861                   </td><td>(47.540683, -122.286131)    </td><td>F110104166                  </td></tr>\n",
       "\t<tr><th scope=row>3</th><td>N 50th St / Stone Way N     </td><td>Aid Response                </td><td>11/09/2011 11:32:00 PM +0000</td><td>47.66503                    </td><td>-122.3402                   </td><td>(47.665034, -122.340207)    </td><td>F110104164                  </td></tr>\n",
       "\t<tr><th scope=row>4</th><td>E John St / E Olive Way     </td><td>Aid Response                </td><td>11/09/2011 11:32:00 PM +0000</td><td>47.61957                    </td><td>-122.3243                   </td><td>(47.619575, -122.324257)    </td><td>F110104165                  </td></tr>\n",
       "\t<tr><th scope=row>5</th><td>611 12th Av S               </td><td>Aid Response                </td><td>11/09/2011 11:29:00 PM +0000</td><td>47.59741                    </td><td>-122.3172                   </td><td>(47.597406, -122.317228)    </td><td>F110104162                  </td></tr>\n",
       "\t<tr><th scope=row>6</th><td>4545 42nd Av Sw             </td><td>Automatic Medical Alarm     </td><td>11/09/2011 11:25:00 PM +0000</td><td>47.56247                    </td><td>-122.3855                   </td><td>(47.562472, -122.385455)    </td><td>F110104161                  </td></tr>\n",
       "\t<tr><th scope=row>7</th><td>2124 3rd Av                 </td><td>Investigate Out Of Service  </td><td>11/09/2011 11:17:00 PM +0000</td><td>47.61335                    </td><td>-122.3425                   </td><td>(47.613347, -122.342498)    </td><td>F110104160                  </td></tr>\n",
       "</tbody>\n",
       "</table>\n"
      ],
      "text/latex": [
       "\\begin{tabular}{r|lllllll}\n",
       "  & Address & Type & Datetime & Latitude & Longitude & Report.Location & Incident.Number\\\\\n",
       "\\hline\n",
       "\t2 & 6900 37th Av S               & Medic Response               & 11/09/2011 11:33:00 PM +0000 & 47.54068                     & -122.2861                    & (47.540683, -122.286131)     & F110104166                  \\\\\n",
       "\t3 & N 50th St / Stone Way N      & Aid Response                 & 11/09/2011 11:32:00 PM +0000 & 47.66503                     & -122.3402                    & (47.665034, -122.340207)     & F110104164                  \\\\\n",
       "\t4 & E John St / E Olive Way      & Aid Response                 & 11/09/2011 11:32:00 PM +0000 & 47.61957                     & -122.3243                    & (47.619575, -122.324257)     & F110104165                  \\\\\n",
       "\t5 & 611 12th Av S                & Aid Response                 & 11/09/2011 11:29:00 PM +0000 & 47.59741                     & -122.3172                    & (47.597406, -122.317228)     & F110104162                  \\\\\n",
       "\t6 & 4545 42nd Av Sw              & Automatic Medical Alarm      & 11/09/2011 11:25:00 PM +0000 & 47.56247                     & -122.3855                    & (47.562472, -122.385455)     & F110104161                  \\\\\n",
       "\t7 & 2124 3rd Av                  & Investigate Out Of Service   & 11/09/2011 11:17:00 PM +0000 & 47.61335                     & -122.3425                    & (47.613347, -122.342498)     & F110104160                  \\\\\n",
       "\\end{tabular}\n"
      ],
      "text/markdown": [
       "\n",
       "| <!--/--> | Address | Type | Datetime | Latitude | Longitude | Report.Location | Incident.Number | \n",
       "|---|---|---|---|---|---|\n",
       "| 2 | 6900 37th Av S               | Medic Response               | 11/09/2011 11:33:00 PM +0000 | 47.54068                     | -122.2861                    | (47.540683, -122.286131)     | F110104166                   | \n",
       "| 3 | N 50th St / Stone Way N      | Aid Response                 | 11/09/2011 11:32:00 PM +0000 | 47.66503                     | -122.3402                    | (47.665034, -122.340207)     | F110104164                   | \n",
       "| 4 | E John St / E Olive Way      | Aid Response                 | 11/09/2011 11:32:00 PM +0000 | 47.61957                     | -122.3243                    | (47.619575, -122.324257)     | F110104165                   | \n",
       "| 5 | 611 12th Av S                | Aid Response                 | 11/09/2011 11:29:00 PM +0000 | 47.59741                     | -122.3172                    | (47.597406, -122.317228)     | F110104162                   | \n",
       "| 6 | 4545 42nd Av Sw              | Automatic Medical Alarm      | 11/09/2011 11:25:00 PM +0000 | 47.56247                     | -122.3855                    | (47.562472, -122.385455)     | F110104161                   | \n",
       "| 7 | 2124 3rd Av                  | Investigate Out Of Service   | 11/09/2011 11:17:00 PM +0000 | 47.61335                     | -122.3425                    | (47.613347, -122.342498)     | F110104160                   | \n",
       "\n",
       "\n"
      ],
      "text/plain": [
       "  Address                 Type                      \n",
       "2 6900 37th Av S          Medic Response            \n",
       "3 N 50th St / Stone Way N Aid Response              \n",
       "4 E John St / E Olive Way Aid Response              \n",
       "5 611 12th Av S           Aid Response              \n",
       "6 4545 42nd Av Sw         Automatic Medical Alarm   \n",
       "7 2124 3rd Av             Investigate Out Of Service\n",
       "  Datetime                     Latitude Longitude Report.Location         \n",
       "2 11/09/2011 11:33:00 PM +0000 47.54068 -122.2861 (47.540683, -122.286131)\n",
       "3 11/09/2011 11:32:00 PM +0000 47.66503 -122.3402 (47.665034, -122.340207)\n",
       "4 11/09/2011 11:32:00 PM +0000 47.61957 -122.3243 (47.619575, -122.324257)\n",
       "5 11/09/2011 11:29:00 PM +0000 47.59741 -122.3172 (47.597406, -122.317228)\n",
       "6 11/09/2011 11:25:00 PM +0000 47.56247 -122.3855 (47.562472, -122.385455)\n",
       "7 11/09/2011 11:17:00 PM +0000 47.61335 -122.3425 (47.613347, -122.342498)\n",
       "  Incident.Number\n",
       "2 F110104166     \n",
       "3 F110104164     \n",
       "4 F110104165     \n",
       "5 F110104162     \n",
       "6 F110104161     \n",
       "7 F110104160     "
      ]
     },
     "metadata": {},
     "output_type": "display_data"
    }
   ],
   "source": [
    "head(df)"
   ]
  },
  {
   "cell_type": "code",
   "execution_count": 10,
   "metadata": {},
   "outputs": [
    {
     "data": {
      "text/html": [
       "<dl class=dl-horizontal>\n",
       "\t<dt>Address</dt>\n",
       "\t\t<dd>'integer'</dd>\n",
       "\t<dt>Type</dt>\n",
       "\t\t<dd>'integer'</dd>\n",
       "\t<dt>Datetime</dt>\n",
       "\t\t<dd>'integer'</dd>\n",
       "\t<dt>Latitude</dt>\n",
       "\t\t<dd>'double'</dd>\n",
       "\t<dt>Longitude</dt>\n",
       "\t\t<dd>'double'</dd>\n",
       "\t<dt>Report.Location</dt>\n",
       "\t\t<dd>'integer'</dd>\n",
       "\t<dt>Incident.Number</dt>\n",
       "\t\t<dd>'integer'</dd>\n",
       "</dl>\n"
      ],
      "text/latex": [
       "\\begin{description*}\n",
       "\\item[Address] 'integer'\n",
       "\\item[Type] 'integer'\n",
       "\\item[Datetime] 'integer'\n",
       "\\item[Latitude] 'double'\n",
       "\\item[Longitude] 'double'\n",
       "\\item[Report.Location] 'integer'\n",
       "\\item[Incident.Number] 'integer'\n",
       "\\end{description*}\n"
      ],
      "text/markdown": [
       "Address\n",
       ":   'integer'Type\n",
       ":   'integer'Datetime\n",
       ":   'integer'Latitude\n",
       ":   'double'Longitude\n",
       ":   'double'Report.Location\n",
       ":   'integer'Incident.Number\n",
       ":   'integer'\n",
       "\n"
      ],
      "text/plain": [
       "        Address            Type        Datetime        Latitude       Longitude \n",
       "      \"integer\"       \"integer\"       \"integer\"        \"double\"        \"double\" \n",
       "Report.Location Incident.Number \n",
       "      \"integer\"       \"integer\" "
      ]
     },
     "metadata": {},
     "output_type": "display_data"
    }
   ],
   "source": [
    "sapply(df, typeof)"
   ]
  },
  {
   "cell_type": "code",
   "execution_count": null,
   "metadata": {
    "collapsed": true
   },
   "outputs": [],
   "source": []
  }
 ],
 "metadata": {
  "kernelspec": {
   "display_name": "R",
   "language": "R",
   "name": "ir"
  },
  "language_info": {
   "codemirror_mode": "r",
   "file_extension": ".r",
   "mimetype": "text/x-r-source",
   "name": "R",
   "pygments_lexer": "r",
   "version": "3.4.0"
  }
 },
 "nbformat": 4,
 "nbformat_minor": 2
}
