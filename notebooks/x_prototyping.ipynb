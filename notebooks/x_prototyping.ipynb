{
 "cells": [
  {
   "cell_type": "code",
   "execution_count": 147,
   "metadata": {
    "collapsed": true
   },
   "outputs": [],
   "source": [
    "allocator <- function(units, preds) {\n",
    "    zones <- c('zone1', 'zone2', 'zone3', 'zone4', 'zone5', 'zone6', 'zone7')\n",
    "    total <- sum(preds)\n",
    "    if (units <= 7) {  # if fewer units than zones \n",
    "        preds <- sort(preds, decreasing = TRUE)\n",
    "        alloc <- rep(0, 7)\n",
    "        names(alloc) <- zones\n",
    "        alloc[names(preds[1: units])] <- 1  # assign to zones with greatest demand\n",
    "        return (alloc)\n",
    "    }\n",
    "    else {\n",
    "        alloc <- rep(1, 7)  # give each zone a unit\n",
    "        names(alloc) <- zones\n",
    "        units <- units - 7\n",
    "        additional <- floor((preds * units) / total)  # distribute units based upon need\n",
    "        alloc <- alloc + additional\n",
    "        units <- units - sum(additional)\n",
    "        if (units > 0){  # if any units are unallocated\n",
    "            sorted_alloc <- sort(alloc)  # assign remaining units to zones with fewest units\n",
    "            alloc[names(sorted_alloc[1: units])] <- alloc[names(sorted_alloc[1: units])] + 1\n",
    "        }\n",
    "        return (alloc)\n",
    "    }\n",
    "}"
   ]
  },
  {
   "cell_type": "code",
   "execution_count": 151,
   "metadata": {
    "collapsed": true
   },
   "outputs": [],
   "source": [
    "units <- 36\n",
    "zones <- c('zone1', 'zone2', 'zone3', 'zone4', 'zone5', 'zone6', 'zone7')\n",
    "preds <- c(10, 40, 100, 2, 0, 77, 80)\n",
    "names(preds) <- zones"
   ]
  },
  {
   "cell_type": "code",
   "execution_count": 3,
   "metadata": {},
   "outputs": [
    {
     "name": "stderr",
     "output_type": "stream",
     "text": [
      "Loading required package: grid\n",
      "Loading required package: lattice\n",
      "Loading required package: modeltools\n",
      "Loading required package: stats4\n"
     ]
    }
   ],
   "source": [
    "library(geosphere)\n",
    "library(flexclust)"
   ]
  },
  {
   "cell_type": "code",
   "execution_count": null,
   "metadata": {
    "collapsed": true
   },
   "outputs": [],
   "source": [
    "distHaversine()"
   ]
  },
  {
   "cell_type": "code",
   "execution_count": 5,
   "metadata": {},
   "outputs": [],
   "source": [
    "clusterer <- function(x, k) {\n",
    "    return (kcca(x, k, family = kccaFamily(dist = distHaversine)))\n",
    "}"
   ]
  },
  {
   "cell_type": "code",
   "execution_count": null,
   "metadata": {
    "collapsed": true
   },
   "outputs": [],
   "source": []
  }
 ],
 "metadata": {
  "kernelspec": {
   "display_name": "R",
   "language": "R",
   "name": "ir"
  },
  "language_info": {
   "codemirror_mode": "r",
   "file_extension": ".r",
   "mimetype": "text/x-r-source",
   "name": "R",
   "pygments_lexer": "r",
   "version": "3.4.0"
  }
 },
 "nbformat": 4,
 "nbformat_minor": 2
}
