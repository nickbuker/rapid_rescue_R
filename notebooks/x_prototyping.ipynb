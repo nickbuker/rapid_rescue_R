{
 "cells": [
  {
   "cell_type": "code",
   "execution_count": 147,
   "metadata": {
    "collapsed": true
   },
   "outputs": [],
   "source": [
    "allocator <- function(units, preds) {\n",
    "    zones <- c('zone1', 'zone2', 'zone3', 'zone4', 'zone5', 'zone6', 'zone7')\n",
    "    total <- sum(preds)\n",
    "    if (units <= 7) {  # if fewer units than zones \n",
    "        preds <- sort(preds, decreasing = TRUE)\n",
    "        alloc <- rep(0, 7)\n",
    "        names(alloc) <- zones\n",
    "        alloc[names(preds[1: units])] <- 1  # assign to zones with greatest demand\n",
    "        return (alloc)\n",
    "    }\n",
    "    else {\n",
    "        alloc <- rep(1, 7)  # give each zone a unit\n",
    "        names(alloc) <- zones\n",
    "        units <- units - 7\n",
    "        additional <- floor((preds * units) / total)  # distribute units based upon need\n",
    "        alloc <- alloc + additional\n",
    "        units <- units - sum(additional)\n",
    "        if (units > 0){  # if any units are unallocated\n",
    "            sorted_alloc <- sort(alloc)  # assign remaining units to zones with fewest units\n",
    "            alloc[names(sorted_alloc[1: units])] <- alloc[names(sorted_alloc[1: units])] + 1\n",
    "        }\n",
    "        return (alloc)\n",
    "    }\n",
    "}"
   ]
  },
  {
   "cell_type": "code",
   "execution_count": 151,
   "metadata": {
    "collapsed": true
   },
   "outputs": [],
   "source": [
    "units <- 36\n",
    "zones <- c('zone1', 'zone2', 'zone3', 'zone4', 'zone5', 'zone6', 'zone7')\n",
    "preds <- c(10, 40, 100, 2, 0, 77, 80)\n",
    "names(preds) <- zones"
   ]
  },
  {
   "cell_type": "code",
   "execution_count": 153,
   "metadata": {},
   "outputs": [
    {
     "data": {
      "text/html": [
       "<dl class=dl-horizontal>\n",
       "\t<dt>zone1</dt>\n",
       "\t\t<dd>2</dd>\n",
       "\t<dt>zone2</dt>\n",
       "\t\t<dd>4</dd>\n",
       "\t<dt>zone3</dt>\n",
       "\t\t<dd>10</dd>\n",
       "\t<dt>zone4</dt>\n",
       "\t\t<dd>2</dd>\n",
       "\t<dt>zone5</dt>\n",
       "\t\t<dd>2</dd>\n",
       "\t<dt>zone6</dt>\n",
       "\t\t<dd>8</dd>\n",
       "\t<dt>zone7</dt>\n",
       "\t\t<dd>8</dd>\n",
       "</dl>\n"
      ],
      "text/latex": [
       "\\begin{description*}\n",
       "\\item[zone1] 2\n",
       "\\item[zone2] 4\n",
       "\\item[zone3] 10\n",
       "\\item[zone4] 2\n",
       "\\item[zone5] 2\n",
       "\\item[zone6] 8\n",
       "\\item[zone7] 8\n",
       "\\end{description*}\n"
      ],
      "text/markdown": [
       "zone1\n",
       ":   2zone2\n",
       ":   4zone3\n",
       ":   10zone4\n",
       ":   2zone5\n",
       ":   2zone6\n",
       ":   8zone7\n",
       ":   8\n",
       "\n"
      ],
      "text/plain": [
       "zone1 zone2 zone3 zone4 zone5 zone6 zone7 \n",
       "    2     4    10     2     2     8     8 "
      ]
     },
     "metadata": {},
     "output_type": "display_data"
    }
   ],
   "source": [
    "alloc <- allocator(units = units, preds = preds)\n",
    "alloc"
   ]
  },
  {
   "cell_type": "code",
   "execution_count": null,
   "metadata": {
    "collapsed": true
   },
   "outputs": [],
   "source": []
  },
  {
   "cell_type": "code",
   "execution_count": 52,
   "metadata": {},
   "outputs": [
    {
     "data": {
      "text/html": [
       "<dl class=dl-horizontal>\n",
       "\t<dt>zone1</dt>\n",
       "\t\t<dd>0</dd>\n",
       "\t<dt>zone2</dt>\n",
       "\t\t<dd>2</dd>\n",
       "\t<dt>zone3</dt>\n",
       "\t\t<dd>5</dd>\n",
       "\t<dt>zone4</dt>\n",
       "\t\t<dd>0</dd>\n",
       "\t<dt>zone5</dt>\n",
       "\t\t<dd>0</dd>\n",
       "\t<dt>zone6</dt>\n",
       "\t\t<dd>3</dd>\n",
       "\t<dt>zone7</dt>\n",
       "\t\t<dd>4</dd>\n",
       "</dl>\n"
      ],
      "text/latex": [
       "\\begin{description*}\n",
       "\\item[zone1] 0\n",
       "\\item[zone2] 2\n",
       "\\item[zone3] 5\n",
       "\\item[zone4] 0\n",
       "\\item[zone5] 0\n",
       "\\item[zone6] 3\n",
       "\\item[zone7] 4\n",
       "\\end{description*}\n"
      ],
      "text/markdown": [
       "zone1\n",
       ":   0zone2\n",
       ":   2zone3\n",
       ":   5zone4\n",
       ":   0zone5\n",
       ":   0zone6\n",
       ":   3zone7\n",
       ":   4\n",
       "\n"
      ],
      "text/plain": [
       "zone1 zone2 zone3 zone4 zone5 zone6 zone7 \n",
       "    0     2     5     0     0     3     4 "
      ]
     },
     "metadata": {},
     "output_type": "display_data"
    }
   ],
   "source": [
    "floor((preds * units) / total)"
   ]
  },
  {
   "cell_type": "code",
   "execution_count": 34,
   "metadata": {},
   "outputs": [
    {
     "data": {
      "text/html": [
       "<dl class=dl-horizontal>\n",
       "\t<dt>zone1</dt>\n",
       "\t\t<dd>1</dd>\n",
       "\t<dt>zone2</dt>\n",
       "\t\t<dd>1</dd>\n",
       "\t<dt>zone3</dt>\n",
       "\t\t<dd>1</dd>\n",
       "\t<dt>zone4</dt>\n",
       "\t\t<dd>1</dd>\n",
       "\t<dt>zone5</dt>\n",
       "\t\t<dd>0</dd>\n",
       "</dl>\n"
      ],
      "text/latex": [
       "\\begin{description*}\n",
       "\\item[zone1] 1\n",
       "\\item[zone2] 1\n",
       "\\item[zone3] 1\n",
       "\\item[zone4] 1\n",
       "\\item[zone5] 0\n",
       "\\end{description*}\n"
      ],
      "text/markdown": [
       "zone1\n",
       ":   1zone2\n",
       ":   1zone3\n",
       ":   1zone4\n",
       ":   1zone5\n",
       ":   0\n",
       "\n"
      ],
      "text/plain": [
       "zone1 zone2 zone3 zone4 zone5 \n",
       "    1     1     1     1     0 "
      ]
     },
     "metadata": {},
     "output_type": "display_data"
    }
   ],
   "source": [
    "alloc[test]"
   ]
  },
  {
   "cell_type": "code",
   "execution_count": 73,
   "metadata": {},
   "outputs": [
    {
     "data": {
      "text/html": [
       "<dl class=dl-horizontal>\n",
       "\t<dt>zone1</dt>\n",
       "\t\t<dd>1</dd>\n",
       "\t<dt>zone2</dt>\n",
       "\t\t<dd>1</dd>\n",
       "\t<dt>zone3</dt>\n",
       "\t\t<dd>1</dd>\n",
       "\t<dt>zone4</dt>\n",
       "\t\t<dd>1</dd>\n",
       "\t<dt>zone5</dt>\n",
       "\t\t<dd>0</dd>\n",
       "\t<dt>zone6</dt>\n",
       "\t\t<dd>0</dd>\n",
       "\t<dt>zone7</dt>\n",
       "\t\t<dd>0</dd>\n",
       "</dl>\n"
      ],
      "text/latex": [
       "\\begin{description*}\n",
       "\\item[zone1] 1\n",
       "\\item[zone2] 1\n",
       "\\item[zone3] 1\n",
       "\\item[zone4] 1\n",
       "\\item[zone5] 0\n",
       "\\item[zone6] 0\n",
       "\\item[zone7] 0\n",
       "\\end{description*}\n"
      ],
      "text/markdown": [
       "zone1\n",
       ":   1zone2\n",
       ":   1zone3\n",
       ":   1zone4\n",
       ":   1zone5\n",
       ":   0zone6\n",
       ":   0zone7\n",
       ":   0\n",
       "\n"
      ],
      "text/plain": [
       "zone1 zone2 zone3 zone4 zone5 zone6 zone7 \n",
       "    1     1     1     1     0     0     0 "
      ]
     },
     "metadata": {},
     "output_type": "display_data"
    }
   ],
   "source": [
    "alloc[]"
   ]
  },
  {
   "cell_type": "code",
   "execution_count": 79,
   "metadata": {
    "collapsed": true
   },
   "outputs": [],
   "source": [
    "alloc[1:1] <- alloc[1:1] + 1"
   ]
  },
  {
   "cell_type": "code",
   "execution_count": 80,
   "metadata": {},
   "outputs": [
    {
     "data": {
      "text/html": [
       "<dl class=dl-horizontal>\n",
       "\t<dt>zone1</dt>\n",
       "\t\t<dd>4</dd>\n",
       "\t<dt>zone2</dt>\n",
       "\t\t<dd>3</dd>\n",
       "\t<dt>zone3</dt>\n",
       "\t\t<dd>1</dd>\n",
       "\t<dt>zone4</dt>\n",
       "\t\t<dd>1</dd>\n",
       "\t<dt>zone5</dt>\n",
       "\t\t<dd>0</dd>\n",
       "\t<dt>zone6</dt>\n",
       "\t\t<dd>0</dd>\n",
       "\t<dt>zone7</dt>\n",
       "\t\t<dd>0</dd>\n",
       "</dl>\n"
      ],
      "text/latex": [
       "\\begin{description*}\n",
       "\\item[zone1] 4\n",
       "\\item[zone2] 3\n",
       "\\item[zone3] 1\n",
       "\\item[zone4] 1\n",
       "\\item[zone5] 0\n",
       "\\item[zone6] 0\n",
       "\\item[zone7] 0\n",
       "\\end{description*}\n"
      ],
      "text/markdown": [
       "zone1\n",
       ":   4zone2\n",
       ":   3zone3\n",
       ":   1zone4\n",
       ":   1zone5\n",
       ":   0zone6\n",
       ":   0zone7\n",
       ":   0\n",
       "\n"
      ],
      "text/plain": [
       "zone1 zone2 zone3 zone4 zone5 zone6 zone7 \n",
       "    4     3     1     1     0     0     0 "
      ]
     },
     "metadata": {},
     "output_type": "display_data"
    }
   ],
   "source": [
    "alloc"
   ]
  },
  {
   "cell_type": "code",
   "execution_count": null,
   "metadata": {
    "collapsed": true
   },
   "outputs": [],
   "source": []
  }
 ],
 "metadata": {
  "kernelspec": {
   "display_name": "R",
   "language": "R",
   "name": "ir"
  },
  "language_info": {
   "codemirror_mode": "r",
   "file_extension": ".r",
   "mimetype": "text/x-r-source",
   "name": "R",
   "pygments_lexer": "r",
   "version": "3.4.0"
  }
 },
 "nbformat": 4,
 "nbformat_minor": 2
}
