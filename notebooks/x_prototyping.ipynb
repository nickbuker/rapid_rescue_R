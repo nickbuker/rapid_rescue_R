{
 "cells": [
  {
   "cell_type": "code",
   "execution_count": 147,
   "metadata": {
    "collapsed": true
   },
   "outputs": [],
   "source": [
    "allocator <- function(units, preds) {\n",
    "    zones <- c('zone1', 'zone2', 'zone3', 'zone4', 'zone5', 'zone6', 'zone7')\n",
    "    total <- sum(preds)\n",
    "    if (units <= 7) {  # if fewer units than zones \n",
    "        preds <- sort(preds, decreasing = TRUE)\n",
    "        alloc <- rep(0, 7)\n",
    "        names(alloc) <- zones\n",
    "        alloc[names(preds[1: units])] <- 1  # assign to zones with greatest demand\n",
    "        return (alloc)\n",
    "    }\n",
    "    else {\n",
    "        alloc <- rep(1, 7)  # give each zone a unit\n",
    "        names(alloc) <- zones\n",
    "        units <- units - 7\n",
    "        additional <- floor((preds * units) / total)  # distribute units based upon need\n",
    "        alloc <- alloc + additional\n",
    "        units <- units - sum(additional)\n",
    "        if (units > 0){  # if any units are unallocated\n",
    "            sorted_alloc <- sort(alloc)  # assign remaining units to zones with fewest units\n",
    "            alloc[names(sorted_alloc[1: units])] <- alloc[names(sorted_alloc[1: units])] + 1\n",
    "        }\n",
    "        return (alloc)\n",
    "    }\n",
    "}"
   ]
  },
  {
   "cell_type": "code",
   "execution_count": 151,
   "metadata": {
    "collapsed": true
   },
   "outputs": [],
   "source": [
    "units <- 36\n",
    "zones <- c('zone1', 'zone2', 'zone3', 'zone4', 'zone5', 'zone6', 'zone7')\n",
    "preds <- c(10, 40, 100, 2, 0, 77, 80)\n",
    "names(preds) <- zones"
   ]
  },
  {
   "cell_type": "code",
   "execution_count": 15,
   "metadata": {},
   "outputs": [
    {
     "name": "stderr",
     "output_type": "stream",
     "text": [
      "Loading required package: maps\n",
      "Loading required package: shapefiles\n",
      "Loading required package: foreign\n",
      "\n",
      "Attaching package: ‘shapefiles’\n",
      "\n",
      "The following objects are masked from ‘package:foreign’:\n",
      "\n",
      "    read.dbf, write.dbf\n",
      "\n"
     ]
    }
   ],
   "source": [
    "library(geosphere)\n",
    "library(fossil)\n",
    "library(flexclust)"
   ]
  },
  {
   "cell_type": "code",
   "execution_count": 9,
   "metadata": {},
   "outputs": [
    {
     "ename": "ERROR",
     "evalue": "Error in inherits(p, \"SpatialPoints\"): argument \"p1\" is missing, with no default\n",
     "output_type": "error",
     "traceback": [
      "Error in inherits(p, \"SpatialPoints\"): argument \"p1\" is missing, with no default\nTraceback:\n",
      "1. distHaversine()",
      "2. .pointsToMatrix(p1)",
      "3. inherits(p, \"SpatialPoints\")"
     ]
    }
   ],
   "source": [
    "distHaversine()"
   ]
  },
  {
   "cell_type": "code",
   "execution_count": 1,
   "metadata": {},
   "outputs": [
    {
     "data": {
      "text/html": [
       "<table>\n",
       "<thead><tr><th scope=col>Address</th><th scope=col>Type</th><th scope=col>Latitude</th><th scope=col>Longitude</th><th scope=col>Timestamp</th><th scope=col>Date</th><th scope=col>Time</th><th scope=col>Weekday</th><th scope=col>Monday</th><th scope=col>Tuesday</th><th scope=col>⋯</th><th scope=col>Night</th><th scope=col>DangHoliday</th><th scope=col>TravHoliday</th><th scope=col>DayNumber</th><th scope=col>Seasonality</th><th scope=col>MarinersHome</th><th scope=col>SeahawksHome</th><th scope=col>SoundersHome</th><th scope=col>Neighborhood</th><th scope=col>Zone</th></tr></thead>\n",
       "<tbody>\n",
       "\t<tr><td>6900 37th Av S            </td><td>Medic Response            </td><td>47.54068                  </td><td>-122.2861                 </td><td>2011-11-09 23:33:00       </td><td>2011-11-10                </td><td>23:33:00                  </td><td>Thursday                  </td><td>0                         </td><td>0                         </td><td>⋯                         </td><td>1                         </td><td>0                         </td><td>0                         </td><td>0.1886578                 </td><td>0.4362022                 </td><td>0                         </td><td>0                         </td><td>0                         </td><td>Holly Park                </td><td>7                         </td></tr>\n",
       "\t<tr><td>N 50th St / Stone Way N   </td><td>Aid Response              </td><td>47.66503                  </td><td>-122.3402                 </td><td>2011-11-09 23:32:00       </td><td>2011-11-10                </td><td>23:32:00                  </td><td>Thursday                  </td><td>0                         </td><td>0                         </td><td>⋯                         </td><td>1                         </td><td>0                         </td><td>0                         </td><td>0.1886578                 </td><td>0.4362022                 </td><td>0                         </td><td>0                         </td><td>0                         </td><td>Wallingford               </td><td>1                         </td></tr>\n",
       "\t<tr><td>E John St / E Olive Way   </td><td>Aid Response              </td><td>47.61957                  </td><td>-122.3243                 </td><td>2011-11-09 23:32:00       </td><td>2011-11-10                </td><td>23:32:00                  </td><td>Thursday                  </td><td>0                         </td><td>0                         </td><td>⋯                         </td><td>1                         </td><td>0                         </td><td>0                         </td><td>0.1886578                 </td><td>0.4362022                 </td><td>0                         </td><td>0                         </td><td>0                         </td><td>Broadway                  </td><td>4                         </td></tr>\n",
       "\t<tr><td>611 12th Av S             </td><td>Aid Response              </td><td>47.59741                  </td><td>-122.3172                 </td><td>2011-11-09 23:29:00       </td><td>2011-11-10                </td><td>23:29:00                  </td><td>Thursday                  </td><td>0                         </td><td>0                         </td><td>⋯                         </td><td>1                         </td><td>0                         </td><td>0                         </td><td>0.1886578                 </td><td>0.4362022                 </td><td>0                         </td><td>0                         </td><td>0                         </td><td>International District    </td><td>5                         </td></tr>\n",
       "\t<tr><td>4545 42nd Av Sw           </td><td>Automatic Medical Alarm   </td><td>47.56247                  </td><td>-122.3855                 </td><td>2011-11-09 23:25:00       </td><td>2011-11-10                </td><td>23:25:00                  </td><td>Thursday                  </td><td>0                         </td><td>0                         </td><td>⋯                         </td><td>1                         </td><td>0                         </td><td>0                         </td><td>0.1886578                 </td><td>0.4362022                 </td><td>0                         </td><td>0                         </td><td>0                         </td><td>Genesee                   </td><td>6                         </td></tr>\n",
       "\t<tr><td>2124 3rd Av               </td><td>Investigate Out Of Service</td><td>47.61335                  </td><td>-122.3425                 </td><td>2011-11-09 23:17:00       </td><td>2011-11-10                </td><td>23:17:00                  </td><td>Thursday                  </td><td>0                         </td><td>0                         </td><td>⋯                         </td><td>1                         </td><td>0                         </td><td>0                         </td><td>0.1886578                 </td><td>0.4362022                 </td><td>0                         </td><td>0                         </td><td>0                         </td><td>Belltown                  </td><td>5                         </td></tr>\n",
       "</tbody>\n",
       "</table>\n"
      ],
      "text/latex": [
       "\\begin{tabular}{r|llllllllllllllllllllllll}\n",
       " Address & Type & Latitude & Longitude & Timestamp & Date & Time & Weekday & Monday & Tuesday & ⋯ & Night & DangHoliday & TravHoliday & DayNumber & Seasonality & MarinersHome & SeahawksHome & SoundersHome & Neighborhood & Zone\\\\\n",
       "\\hline\n",
       "\t 6900 37th Av S             & Medic Response             & 47.54068                   & -122.2861                  & 2011-11-09 23:33:00        & 2011-11-10                 & 23:33:00                   & Thursday                   & 0                          & 0                          & ⋯                          & 1                          & 0                          & 0                          & 0.1886578                  & 0.4362022                  & 0                          & 0                          & 0                          & Holly Park                 & 7                         \\\\\n",
       "\t N 50th St / Stone Way N    & Aid Response               & 47.66503                   & -122.3402                  & 2011-11-09 23:32:00        & 2011-11-10                 & 23:32:00                   & Thursday                   & 0                          & 0                          & ⋯                          & 1                          & 0                          & 0                          & 0.1886578                  & 0.4362022                  & 0                          & 0                          & 0                          & Wallingford                & 1                         \\\\\n",
       "\t E John St / E Olive Way    & Aid Response               & 47.61957                   & -122.3243                  & 2011-11-09 23:32:00        & 2011-11-10                 & 23:32:00                   & Thursday                   & 0                          & 0                          & ⋯                          & 1                          & 0                          & 0                          & 0.1886578                  & 0.4362022                  & 0                          & 0                          & 0                          & Broadway                   & 4                         \\\\\n",
       "\t 611 12th Av S              & Aid Response               & 47.59741                   & -122.3172                  & 2011-11-09 23:29:00        & 2011-11-10                 & 23:29:00                   & Thursday                   & 0                          & 0                          & ⋯                          & 1                          & 0                          & 0                          & 0.1886578                  & 0.4362022                  & 0                          & 0                          & 0                          & International District     & 5                         \\\\\n",
       "\t 4545 42nd Av Sw            & Automatic Medical Alarm    & 47.56247                   & -122.3855                  & 2011-11-09 23:25:00        & 2011-11-10                 & 23:25:00                   & Thursday                   & 0                          & 0                          & ⋯                          & 1                          & 0                          & 0                          & 0.1886578                  & 0.4362022                  & 0                          & 0                          & 0                          & Genesee                    & 6                         \\\\\n",
       "\t 2124 3rd Av                & Investigate Out Of Service & 47.61335                   & -122.3425                  & 2011-11-09 23:17:00        & 2011-11-10                 & 23:17:00                   & Thursday                   & 0                          & 0                          & ⋯                          & 1                          & 0                          & 0                          & 0.1886578                  & 0.4362022                  & 0                          & 0                          & 0                          & Belltown                   & 5                         \\\\\n",
       "\\end{tabular}\n"
      ],
      "text/markdown": [
       "\n",
       "Address | Type | Latitude | Longitude | Timestamp | Date | Time | Weekday | Monday | Tuesday | ⋯ | Night | DangHoliday | TravHoliday | DayNumber | Seasonality | MarinersHome | SeahawksHome | SoundersHome | Neighborhood | Zone | \n",
       "|---|---|---|---|---|---|\n",
       "| 6900 37th Av S             | Medic Response             | 47.54068                   | -122.2861                  | 2011-11-09 23:33:00        | 2011-11-10                 | 23:33:00                   | Thursday                   | 0                          | 0                          | ⋯                          | 1                          | 0                          | 0                          | 0.1886578                  | 0.4362022                  | 0                          | 0                          | 0                          | Holly Park                 | 7                          | \n",
       "| N 50th St / Stone Way N    | Aid Response               | 47.66503                   | -122.3402                  | 2011-11-09 23:32:00        | 2011-11-10                 | 23:32:00                   | Thursday                   | 0                          | 0                          | ⋯                          | 1                          | 0                          | 0                          | 0.1886578                  | 0.4362022                  | 0                          | 0                          | 0                          | Wallingford                | 1                          | \n",
       "| E John St / E Olive Way    | Aid Response               | 47.61957                   | -122.3243                  | 2011-11-09 23:32:00        | 2011-11-10                 | 23:32:00                   | Thursday                   | 0                          | 0                          | ⋯                          | 1                          | 0                          | 0                          | 0.1886578                  | 0.4362022                  | 0                          | 0                          | 0                          | Broadway                   | 4                          | \n",
       "| 611 12th Av S              | Aid Response               | 47.59741                   | -122.3172                  | 2011-11-09 23:29:00        | 2011-11-10                 | 23:29:00                   | Thursday                   | 0                          | 0                          | ⋯                          | 1                          | 0                          | 0                          | 0.1886578                  | 0.4362022                  | 0                          | 0                          | 0                          | International District     | 5                          | \n",
       "| 4545 42nd Av Sw            | Automatic Medical Alarm    | 47.56247                   | -122.3855                  | 2011-11-09 23:25:00        | 2011-11-10                 | 23:25:00                   | Thursday                   | 0                          | 0                          | ⋯                          | 1                          | 0                          | 0                          | 0.1886578                  | 0.4362022                  | 0                          | 0                          | 0                          | Genesee                    | 6                          | \n",
       "| 2124 3rd Av                | Investigate Out Of Service | 47.61335                   | -122.3425                  | 2011-11-09 23:17:00        | 2011-11-10                 | 23:17:00                   | Thursday                   | 0                          | 0                          | ⋯                          | 1                          | 0                          | 0                          | 0.1886578                  | 0.4362022                  | 0                          | 0                          | 0                          | Belltown                   | 5                          | \n",
       "\n",
       "\n"
      ],
      "text/plain": [
       "  Address                 Type                       Latitude Longitude\n",
       "1 6900 37th Av S          Medic Response             47.54068 -122.2861\n",
       "2 N 50th St / Stone Way N Aid Response               47.66503 -122.3402\n",
       "3 E John St / E Olive Way Aid Response               47.61957 -122.3243\n",
       "4 611 12th Av S           Aid Response               47.59741 -122.3172\n",
       "5 4545 42nd Av Sw         Automatic Medical Alarm    47.56247 -122.3855\n",
       "6 2124 3rd Av             Investigate Out Of Service 47.61335 -122.3425\n",
       "  Timestamp           Date       Time     Weekday  Monday Tuesday ⋯ Night\n",
       "1 2011-11-09 23:33:00 2011-11-10 23:33:00 Thursday 0      0       ⋯ 1    \n",
       "2 2011-11-09 23:32:00 2011-11-10 23:32:00 Thursday 0      0       ⋯ 1    \n",
       "3 2011-11-09 23:32:00 2011-11-10 23:32:00 Thursday 0      0       ⋯ 1    \n",
       "4 2011-11-09 23:29:00 2011-11-10 23:29:00 Thursday 0      0       ⋯ 1    \n",
       "5 2011-11-09 23:25:00 2011-11-10 23:25:00 Thursday 0      0       ⋯ 1    \n",
       "6 2011-11-09 23:17:00 2011-11-10 23:17:00 Thursday 0      0       ⋯ 1    \n",
       "  DangHoliday TravHoliday DayNumber Seasonality MarinersHome SeahawksHome\n",
       "1 0           0           0.1886578 0.4362022   0            0           \n",
       "2 0           0           0.1886578 0.4362022   0            0           \n",
       "3 0           0           0.1886578 0.4362022   0            0           \n",
       "4 0           0           0.1886578 0.4362022   0            0           \n",
       "5 0           0           0.1886578 0.4362022   0            0           \n",
       "6 0           0           0.1886578 0.4362022   0            0           \n",
       "  SoundersHome Neighborhood           Zone\n",
       "1 0            Holly Park             7   \n",
       "2 0            Wallingford            1   \n",
       "3 0            Broadway               4   \n",
       "4 0            International District 5   \n",
       "5 0            Genesee                6   \n",
       "6 0            Belltown               5   "
      ]
     },
     "metadata": {},
     "output_type": "display_data"
    }
   ],
   "source": [
    "dta <- read.csv('../data/seattle_911_geo_time_features.csv')\n",
    "head(dta)"
   ]
  },
  {
   "cell_type": "code",
   "execution_count": 49,
   "metadata": {},
   "outputs": [],
   "source": [
    "x <- subset(dta, select = c(4,3))[1:500,]"
   ]
  },
  {
   "cell_type": "code",
   "execution_count": 52,
   "metadata": {},
   "outputs": [],
   "source": [
    "centroid_finder <- function(x, k) {\n",
    "    d <- earth.dist(x)\n",
    "    km <- kmeans(d, centers = k)\n",
    "    x$cluster <- km$cluster\n",
    "    return (aggregate(.~cluster, data = x, mean)[, c(1,3,2)])\n",
    "} "
   ]
  },
  {
   "cell_type": "code",
   "execution_count": 53,
   "metadata": {},
   "outputs": [
    {
     "data": {
      "text/html": [
       "<table>\n",
       "<thead><tr><th scope=col>cluster</th><th scope=col>Latitude</th><th scope=col>Longitude</th></tr></thead>\n",
       "<tbody>\n",
       "\t<tr><td>1        </td><td>47.65436 </td><td>-122.3326</td></tr>\n",
       "\t<tr><td>2        </td><td>47.71866 </td><td>-122.3275</td></tr>\n",
       "\t<tr><td>3        </td><td>47.61026 </td><td>-122.3292</td></tr>\n",
       "\t<tr><td>4        </td><td>47.68106 </td><td>-122.3433</td></tr>\n",
       "\t<tr><td>5        </td><td>47.54770 </td><td>-122.3270</td></tr>\n",
       "</tbody>\n",
       "</table>\n"
      ],
      "text/latex": [
       "\\begin{tabular}{r|lll}\n",
       " cluster & Latitude & Longitude\\\\\n",
       "\\hline\n",
       "\t 1         & 47.65436  & -122.3326\\\\\n",
       "\t 2         & 47.71866  & -122.3275\\\\\n",
       "\t 3         & 47.61026  & -122.3292\\\\\n",
       "\t 4         & 47.68106  & -122.3433\\\\\n",
       "\t 5         & 47.54770  & -122.3270\\\\\n",
       "\\end{tabular}\n"
      ],
      "text/markdown": [
       "\n",
       "cluster | Latitude | Longitude | \n",
       "|---|---|---|---|---|\n",
       "| 1         | 47.65436  | -122.3326 | \n",
       "| 2         | 47.71866  | -122.3275 | \n",
       "| 3         | 47.61026  | -122.3292 | \n",
       "| 4         | 47.68106  | -122.3433 | \n",
       "| 5         | 47.54770  | -122.3270 | \n",
       "\n",
       "\n"
      ],
      "text/plain": [
       "  cluster Latitude Longitude\n",
       "1 1       47.65436 -122.3326\n",
       "2 2       47.71866 -122.3275\n",
       "3 3       47.61026 -122.3292\n",
       "4 4       47.68106 -122.3433\n",
       "5 5       47.54770 -122.3270"
      ]
     },
     "metadata": {},
     "output_type": "display_data"
    }
   ],
   "source": [
    "centroid_finder(x, 5)\n"
   ]
  },
  {
   "cell_type": "code",
   "execution_count": 38,
   "metadata": {},
   "outputs": [
    {
     "data": {
      "text/html": [
       "<table>\n",
       "<thead><tr><th scope=col>Longitude</th><th scope=col>Latitude</th><th scope=col>label</th></tr></thead>\n",
       "<tbody>\n",
       "\t<tr><td>-122.2861</td><td>47.54068 </td><td>3        </td></tr>\n",
       "\t<tr><td>-122.3402</td><td>47.66503 </td><td>2        </td></tr>\n",
       "\t<tr><td>-122.3243</td><td>47.61957 </td><td>1        </td></tr>\n",
       "\t<tr><td>-122.3172</td><td>47.59741 </td><td>1        </td></tr>\n",
       "\t<tr><td>-122.3855</td><td>47.56247 </td><td>3        </td></tr>\n",
       "\t<tr><td>-122.3425</td><td>47.61335 </td><td>1        </td></tr>\n",
       "</tbody>\n",
       "</table>\n"
      ],
      "text/latex": [
       "\\begin{tabular}{r|lll}\n",
       " Longitude & Latitude & label\\\\\n",
       "\\hline\n",
       "\t -122.2861 & 47.54068  & 3        \\\\\n",
       "\t -122.3402 & 47.66503  & 2        \\\\\n",
       "\t -122.3243 & 47.61957  & 1        \\\\\n",
       "\t -122.3172 & 47.59741  & 1        \\\\\n",
       "\t -122.3855 & 47.56247  & 3        \\\\\n",
       "\t -122.3425 & 47.61335  & 1        \\\\\n",
       "\\end{tabular}\n"
      ],
      "text/markdown": [
       "\n",
       "Longitude | Latitude | label | \n",
       "|---|---|---|---|---|---|\n",
       "| -122.2861 | 47.54068  | 3         | \n",
       "| -122.3402 | 47.66503  | 2         | \n",
       "| -122.3243 | 47.61957  | 1         | \n",
       "| -122.3172 | 47.59741  | 1         | \n",
       "| -122.3855 | 47.56247  | 3         | \n",
       "| -122.3425 | 47.61335  | 1         | \n",
       "\n",
       "\n"
      ],
      "text/plain": [
       "  Longitude Latitude label\n",
       "1 -122.2861 47.54068 3    \n",
       "2 -122.3402 47.66503 2    \n",
       "3 -122.3243 47.61957 1    \n",
       "4 -122.3172 47.59741 1    \n",
       "5 -122.3855 47.56247 3    \n",
       "6 -122.3425 47.61335 1    "
      ]
     },
     "metadata": {},
     "output_type": "display_data"
    }
   ],
   "source": [
    "x$label <- km$cluster\n",
    "head(x)"
   ]
  },
  {
   "cell_type": "code",
   "execution_count": 42,
   "metadata": {},
   "outputs": [
    {
     "data": {
      "text/html": [
       "<table>\n",
       "<thead><tr><th scope=col>label</th><th scope=col>Longitude</th><th scope=col>Latitude</th></tr></thead>\n",
       "<tbody>\n",
       "\t<tr><td>1        </td><td>-122.3301</td><td>47.61245 </td></tr>\n",
       "\t<tr><td>2        </td><td>-122.3351</td><td>47.68453 </td></tr>\n",
       "\t<tr><td>3        </td><td>-122.3268</td><td>47.54794 </td></tr>\n",
       "</tbody>\n",
       "</table>\n"
      ],
      "text/latex": [
       "\\begin{tabular}{r|lll}\n",
       " label & Longitude & Latitude\\\\\n",
       "\\hline\n",
       "\t 1         & -122.3301 & 47.61245 \\\\\n",
       "\t 2         & -122.3351 & 47.68453 \\\\\n",
       "\t 3         & -122.3268 & 47.54794 \\\\\n",
       "\\end{tabular}\n"
      ],
      "text/markdown": [
       "\n",
       "label | Longitude | Latitude | \n",
       "|---|---|---|\n",
       "| 1         | -122.3301 | 47.61245  | \n",
       "| 2         | -122.3351 | 47.68453  | \n",
       "| 3         | -122.3268 | 47.54794  | \n",
       "\n",
       "\n"
      ],
      "text/plain": [
       "  label Longitude Latitude\n",
       "1 1     -122.3301 47.61245\n",
       "2 2     -122.3351 47.68453\n",
       "3 3     -122.3268 47.54794"
      ]
     },
     "metadata": {},
     "output_type": "display_data"
    }
   ],
   "source": [
    "aggregate(.~label, data = x, mean)\n"
   ]
  },
  {
   "cell_type": "code",
   "execution_count": null,
   "metadata": {
    "collapsed": true
   },
   "outputs": [],
   "source": []
  }
 ],
 "metadata": {
  "kernelspec": {
   "display_name": "R",
   "language": "R",
   "name": "ir"
  },
  "language_info": {
   "codemirror_mode": "r",
   "file_extension": ".r",
   "mimetype": "text/x-r-source",
   "name": "R",
   "pygments_lexer": "r",
   "version": "3.4.0"
  }
 },
 "nbformat": 4,
 "nbformat_minor": 2
}
