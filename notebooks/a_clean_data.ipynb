{
 "cells": [
  {
   "cell_type": "code",
   "execution_count": 1,
   "metadata": {
    "collapsed": true
   },
   "outputs": [],
   "source": [
    "dta <- read.csv('../data/seattle_911_raw.csv')\n",
    "dta <- dta[-1,]\n",
    "dta <- dta[,1:5]"
   ]
  },
  {
   "cell_type": "code",
   "execution_count": 2,
   "metadata": {},
   "outputs": [
    {
     "data": {
      "text/html": [
       "<table>\n",
       "<thead><tr><th></th><th scope=col>Address</th><th scope=col>Type</th><th scope=col>Datetime</th><th scope=col>Latitude</th><th scope=col>Longitude</th></tr></thead>\n",
       "<tbody>\n",
       "\t<tr><th scope=row>2</th><td>6900 37th Av S              </td><td>Medic Response              </td><td>11/09/2011 11:33:00 PM +0000</td><td>47.54068                    </td><td>-122.2861                   </td></tr>\n",
       "\t<tr><th scope=row>3</th><td>N 50th St / Stone Way N     </td><td>Aid Response                </td><td>11/09/2011 11:32:00 PM +0000</td><td>47.66503                    </td><td>-122.3402                   </td></tr>\n",
       "\t<tr><th scope=row>4</th><td>E John St / E Olive Way     </td><td>Aid Response                </td><td>11/09/2011 11:32:00 PM +0000</td><td>47.61957                    </td><td>-122.3243                   </td></tr>\n",
       "\t<tr><th scope=row>5</th><td>611 12th Av S               </td><td>Aid Response                </td><td>11/09/2011 11:29:00 PM +0000</td><td>47.59741                    </td><td>-122.3172                   </td></tr>\n",
       "\t<tr><th scope=row>6</th><td>4545 42nd Av Sw             </td><td>Automatic Medical Alarm     </td><td>11/09/2011 11:25:00 PM +0000</td><td>47.56247                    </td><td>-122.3855                   </td></tr>\n",
       "\t<tr><th scope=row>7</th><td>2124 3rd Av                 </td><td>Investigate Out Of Service  </td><td>11/09/2011 11:17:00 PM +0000</td><td>47.61335                    </td><td>-122.3425                   </td></tr>\n",
       "</tbody>\n",
       "</table>\n"
      ],
      "text/latex": [
       "\\begin{tabular}{r|lllll}\n",
       "  & Address & Type & Datetime & Latitude & Longitude\\\\\n",
       "\\hline\n",
       "\t2 & 6900 37th Av S               & Medic Response               & 11/09/2011 11:33:00 PM +0000 & 47.54068                     & -122.2861                   \\\\\n",
       "\t3 & N 50th St / Stone Way N      & Aid Response                 & 11/09/2011 11:32:00 PM +0000 & 47.66503                     & -122.3402                   \\\\\n",
       "\t4 & E John St / E Olive Way      & Aid Response                 & 11/09/2011 11:32:00 PM +0000 & 47.61957                     & -122.3243                   \\\\\n",
       "\t5 & 611 12th Av S                & Aid Response                 & 11/09/2011 11:29:00 PM +0000 & 47.59741                     & -122.3172                   \\\\\n",
       "\t6 & 4545 42nd Av Sw              & Automatic Medical Alarm      & 11/09/2011 11:25:00 PM +0000 & 47.56247                     & -122.3855                   \\\\\n",
       "\t7 & 2124 3rd Av                  & Investigate Out Of Service   & 11/09/2011 11:17:00 PM +0000 & 47.61335                     & -122.3425                   \\\\\n",
       "\\end{tabular}\n"
      ],
      "text/markdown": [
       "\n",
       "| <!--/--> | Address | Type | Datetime | Latitude | Longitude | \n",
       "|---|---|---|---|---|---|\n",
       "| 2 | 6900 37th Av S               | Medic Response               | 11/09/2011 11:33:00 PM +0000 | 47.54068                     | -122.2861                    | \n",
       "| 3 | N 50th St / Stone Way N      | Aid Response                 | 11/09/2011 11:32:00 PM +0000 | 47.66503                     | -122.3402                    | \n",
       "| 4 | E John St / E Olive Way      | Aid Response                 | 11/09/2011 11:32:00 PM +0000 | 47.61957                     | -122.3243                    | \n",
       "| 5 | 611 12th Av S                | Aid Response                 | 11/09/2011 11:29:00 PM +0000 | 47.59741                     | -122.3172                    | \n",
       "| 6 | 4545 42nd Av Sw              | Automatic Medical Alarm      | 11/09/2011 11:25:00 PM +0000 | 47.56247                     | -122.3855                    | \n",
       "| 7 | 2124 3rd Av                  | Investigate Out Of Service   | 11/09/2011 11:17:00 PM +0000 | 47.61335                     | -122.3425                    | \n",
       "\n",
       "\n"
      ],
      "text/plain": [
       "  Address                 Type                      \n",
       "2 6900 37th Av S          Medic Response            \n",
       "3 N 50th St / Stone Way N Aid Response              \n",
       "4 E John St / E Olive Way Aid Response              \n",
       "5 611 12th Av S           Aid Response              \n",
       "6 4545 42nd Av Sw         Automatic Medical Alarm   \n",
       "7 2124 3rd Av             Investigate Out Of Service\n",
       "  Datetime                     Latitude Longitude\n",
       "2 11/09/2011 11:33:00 PM +0000 47.54068 -122.2861\n",
       "3 11/09/2011 11:32:00 PM +0000 47.66503 -122.3402\n",
       "4 11/09/2011 11:32:00 PM +0000 47.61957 -122.3243\n",
       "5 11/09/2011 11:29:00 PM +0000 47.59741 -122.3172\n",
       "6 11/09/2011 11:25:00 PM +0000 47.56247 -122.3855\n",
       "7 11/09/2011 11:17:00 PM +0000 47.61335 -122.3425"
      ]
     },
     "metadata": {},
     "output_type": "display_data"
    }
   ],
   "source": [
    "head(dta)"
   ]
  },
  {
   "cell_type": "code",
   "execution_count": 3,
   "metadata": {},
   "outputs": [
    {
     "data": {
      "text/html": [
       "<ol class=list-inline>\n",
       "\t<li>650886</li>\n",
       "\t<li>5</li>\n",
       "</ol>\n"
      ],
      "text/latex": [
       "\\begin{enumerate*}\n",
       "\\item 650886\n",
       "\\item 5\n",
       "\\end{enumerate*}\n"
      ],
      "text/markdown": [
       "1. 650886\n",
       "2. 5\n",
       "\n",
       "\n"
      ],
      "text/plain": [
       "[1] 650886      5"
      ]
     },
     "metadata": {},
     "output_type": "display_data"
    }
   ],
   "source": [
    "dim(dta)"
   ]
  },
  {
   "cell_type": "code",
   "execution_count": 4,
   "metadata": {},
   "outputs": [
    {
     "data": {
      "text/html": [
       "<dl class=dl-horizontal>\n",
       "\t<dt>Address</dt>\n",
       "\t\t<dd>'integer'</dd>\n",
       "\t<dt>Type</dt>\n",
       "\t\t<dd>'integer'</dd>\n",
       "\t<dt>Datetime</dt>\n",
       "\t\t<dd>'integer'</dd>\n",
       "\t<dt>Latitude</dt>\n",
       "\t\t<dd>'double'</dd>\n",
       "\t<dt>Longitude</dt>\n",
       "\t\t<dd>'double'</dd>\n",
       "</dl>\n"
      ],
      "text/latex": [
       "\\begin{description*}\n",
       "\\item[Address] 'integer'\n",
       "\\item[Type] 'integer'\n",
       "\\item[Datetime] 'integer'\n",
       "\\item[Latitude] 'double'\n",
       "\\item[Longitude] 'double'\n",
       "\\end{description*}\n"
      ],
      "text/markdown": [
       "Address\n",
       ":   'integer'Type\n",
       ":   'integer'Datetime\n",
       ":   'integer'Latitude\n",
       ":   'double'Longitude\n",
       ":   'double'\n",
       "\n"
      ],
      "text/plain": [
       "  Address      Type  Datetime  Latitude Longitude \n",
       "\"integer\" \"integer\" \"integer\"  \"double\"  \"double\" "
      ]
     },
     "metadata": {},
     "output_type": "display_data"
    }
   ],
   "source": [
    "sapply(dta, typeof)"
   ]
  },
  {
   "cell_type": "code",
   "execution_count": 5,
   "metadata": {},
   "outputs": [
    {
     "data": {
      "text/html": [
       "<table>\n",
       "<thead><tr><th></th><th scope=col>na_count</th></tr></thead>\n",
       "<tbody>\n",
       "\t<tr><th scope=row>Address</th><td>   0</td></tr>\n",
       "\t<tr><th scope=row>Type</th><td>   0</td></tr>\n",
       "\t<tr><th scope=row>Datetime</th><td>   0</td></tr>\n",
       "\t<tr><th scope=row>Latitude</th><td>1568</td></tr>\n",
       "\t<tr><th scope=row>Longitude</th><td>1568</td></tr>\n",
       "</tbody>\n",
       "</table>\n"
      ],
      "text/latex": [
       "\\begin{tabular}{r|l}\n",
       "  & na\\_count\\\\\n",
       "\\hline\n",
       "\tAddress &    0\\\\\n",
       "\tType &    0\\\\\n",
       "\tDatetime &    0\\\\\n",
       "\tLatitude & 1568\\\\\n",
       "\tLongitude & 1568\\\\\n",
       "\\end{tabular}\n"
      ],
      "text/markdown": [
       "\n",
       "| <!--/--> | na_count | \n",
       "|---|---|---|---|---|\n",
       "| Address |    0 | \n",
       "| Type |    0 | \n",
       "| Datetime |    0 | \n",
       "| Latitude | 1568 | \n",
       "| Longitude | 1568 | \n",
       "\n",
       "\n"
      ],
      "text/plain": [
       "          na_count\n",
       "Address      0    \n",
       "Type         0    \n",
       "Datetime     0    \n",
       "Latitude  1568    \n",
       "Longitude 1568    "
      ]
     },
     "metadata": {},
     "output_type": "display_data"
    }
   ],
   "source": [
    "na_count <- sapply(dta, function(y) sum(is.na(y)))\n",
    "data.frame(na_count)"
   ]
  },
  {
   "cell_type": "code",
   "execution_count": 6,
   "metadata": {},
   "outputs": [
    {
     "data": {
      "text/html": [
       "<table>\n",
       "<thead><tr><th></th><th scope=col>na_count</th></tr></thead>\n",
       "<tbody>\n",
       "\t<tr><th scope=row>Address</th><td>0</td></tr>\n",
       "\t<tr><th scope=row>Type</th><td>0</td></tr>\n",
       "\t<tr><th scope=row>Datetime</th><td>0</td></tr>\n",
       "\t<tr><th scope=row>Latitude</th><td>0</td></tr>\n",
       "\t<tr><th scope=row>Longitude</th><td>0</td></tr>\n",
       "</tbody>\n",
       "</table>\n"
      ],
      "text/latex": [
       "\\begin{tabular}{r|l}\n",
       "  & na\\_count\\\\\n",
       "\\hline\n",
       "\tAddress & 0\\\\\n",
       "\tType & 0\\\\\n",
       "\tDatetime & 0\\\\\n",
       "\tLatitude & 0\\\\\n",
       "\tLongitude & 0\\\\\n",
       "\\end{tabular}\n"
      ],
      "text/markdown": [
       "\n",
       "| <!--/--> | na_count | \n",
       "|---|---|---|---|---|\n",
       "| Address | 0 | \n",
       "| Type | 0 | \n",
       "| Datetime | 0 | \n",
       "| Latitude | 0 | \n",
       "| Longitude | 0 | \n",
       "\n",
       "\n"
      ],
      "text/plain": [
       "          na_count\n",
       "Address   0       \n",
       "Type      0       \n",
       "Datetime  0       \n",
       "Latitude  0       \n",
       "Longitude 0       "
      ]
     },
     "metadata": {},
     "output_type": "display_data"
    }
   ],
   "source": [
    "dta <- na.omit(dta)\n",
    "rownames(dta) <- seq(length=nrow(dta))\n",
    "na_count <- sapply(dta, function(y) sum(is.na(y)))\n",
    "data.frame(na_count)"
   ]
  },
  {
   "cell_type": "code",
   "execution_count": 7,
   "metadata": {
    "collapsed": true
   },
   "outputs": [],
   "source": [
    "dta$Timestamp <- as.POSIXct(dta$Datetime, format=\"%m/%d/%Y %I:%M:%S %p\", tz = Sys.timezone(location = TRUE))\n",
    "dta$Date <- as.Date(dta$Datetime, format=\"%m/%d/%Y\", tz = Sys.timezone(location = TRUE))\n",
    "dta$Time <- format(dta$Timestamp,\"%H:%M:%S\")"
   ]
  },
  {
   "cell_type": "code",
   "execution_count": 8,
   "metadata": {},
   "outputs": [
    {
     "data": {
      "text/html": [
       "<table>\n",
       "<thead><tr><th></th><th scope=col>na_count</th></tr></thead>\n",
       "<tbody>\n",
       "\t<tr><th scope=row>Address</th><td>   0</td></tr>\n",
       "\t<tr><th scope=row>Type</th><td>   0</td></tr>\n",
       "\t<tr><th scope=row>Datetime</th><td>   0</td></tr>\n",
       "\t<tr><th scope=row>Latitude</th><td>   0</td></tr>\n",
       "\t<tr><th scope=row>Longitude</th><td>   0</td></tr>\n",
       "\t<tr><th scope=row>Timestamp</th><td>2121</td></tr>\n",
       "\t<tr><th scope=row>Date</th><td>2046</td></tr>\n",
       "\t<tr><th scope=row>Time</th><td>2121</td></tr>\n",
       "</tbody>\n",
       "</table>\n"
      ],
      "text/latex": [
       "\\begin{tabular}{r|l}\n",
       "  & na\\_count\\\\\n",
       "\\hline\n",
       "\tAddress &    0\\\\\n",
       "\tType &    0\\\\\n",
       "\tDatetime &    0\\\\\n",
       "\tLatitude &    0\\\\\n",
       "\tLongitude &    0\\\\\n",
       "\tTimestamp & 2121\\\\\n",
       "\tDate & 2046\\\\\n",
       "\tTime & 2121\\\\\n",
       "\\end{tabular}\n"
      ],
      "text/markdown": [
       "\n",
       "| <!--/--> | na_count | \n",
       "|---|---|---|---|---|---|---|---|\n",
       "| Address |    0 | \n",
       "| Type |    0 | \n",
       "| Datetime |    0 | \n",
       "| Latitude |    0 | \n",
       "| Longitude |    0 | \n",
       "| Timestamp | 2121 | \n",
       "| Date | 2046 | \n",
       "| Time | 2121 | \n",
       "\n",
       "\n"
      ],
      "text/plain": [
       "          na_count\n",
       "Address      0    \n",
       "Type         0    \n",
       "Datetime     0    \n",
       "Latitude     0    \n",
       "Longitude    0    \n",
       "Timestamp 2121    \n",
       "Date      2046    \n",
       "Time      2121    "
      ]
     },
     "metadata": {},
     "output_type": "display_data"
    }
   ],
   "source": [
    "na_count <- sapply(dta, function(y) sum(is.na(y)))\n",
    "data.frame(na_count)"
   ]
  },
  {
   "cell_type": "code",
   "execution_count": 9,
   "metadata": {},
   "outputs": [
    {
     "data": {
      "text/html": [
       "<table>\n",
       "<thead><tr><th></th><th scope=col>na_count</th></tr></thead>\n",
       "<tbody>\n",
       "\t<tr><th scope=row>Address</th><td>0</td></tr>\n",
       "\t<tr><th scope=row>Type</th><td>0</td></tr>\n",
       "\t<tr><th scope=row>Datetime</th><td>0</td></tr>\n",
       "\t<tr><th scope=row>Latitude</th><td>0</td></tr>\n",
       "\t<tr><th scope=row>Longitude</th><td>0</td></tr>\n",
       "\t<tr><th scope=row>Timestamp</th><td>0</td></tr>\n",
       "\t<tr><th scope=row>Date</th><td>0</td></tr>\n",
       "\t<tr><th scope=row>Time</th><td>0</td></tr>\n",
       "</tbody>\n",
       "</table>\n"
      ],
      "text/latex": [
       "\\begin{tabular}{r|l}\n",
       "  & na\\_count\\\\\n",
       "\\hline\n",
       "\tAddress & 0\\\\\n",
       "\tType & 0\\\\\n",
       "\tDatetime & 0\\\\\n",
       "\tLatitude & 0\\\\\n",
       "\tLongitude & 0\\\\\n",
       "\tTimestamp & 0\\\\\n",
       "\tDate & 0\\\\\n",
       "\tTime & 0\\\\\n",
       "\\end{tabular}\n"
      ],
      "text/markdown": [
       "\n",
       "| <!--/--> | na_count | \n",
       "|---|---|---|---|---|---|---|---|\n",
       "| Address | 0 | \n",
       "| Type | 0 | \n",
       "| Datetime | 0 | \n",
       "| Latitude | 0 | \n",
       "| Longitude | 0 | \n",
       "| Timestamp | 0 | \n",
       "| Date | 0 | \n",
       "| Time | 0 | \n",
       "\n",
       "\n"
      ],
      "text/plain": [
       "          na_count\n",
       "Address   0       \n",
       "Type      0       \n",
       "Datetime  0       \n",
       "Latitude  0       \n",
       "Longitude 0       \n",
       "Timestamp 0       \n",
       "Date      0       \n",
       "Time      0       "
      ]
     },
     "metadata": {},
     "output_type": "display_data"
    }
   ],
   "source": [
    "dta <- na.omit(dta)\n",
    "rownames(dta) <- seq(length=nrow(dta))\n",
    "na_count <- sapply(dta, function(y) sum(is.na(y)))\n",
    "data.frame(na_count)"
   ]
  },
  {
   "cell_type": "code",
   "execution_count": 10,
   "metadata": {
    "collapsed": true
   },
   "outputs": [],
   "source": [
    "dta <- unique(dta)"
   ]
  },
  {
   "cell_type": "code",
   "execution_count": 11,
   "metadata": {
    "collapsed": true
   },
   "outputs": [],
   "source": [
    "write.csv(dta[,-3], file = '../data/seattle_911_clean.csv')"
   ]
  },
  {
   "cell_type": "code",
   "execution_count": null,
   "metadata": {
    "collapsed": true
   },
   "outputs": [],
   "source": []
  }
 ],
 "metadata": {
  "kernelspec": {
   "display_name": "R",
   "language": "R",
   "name": "ir"
  },
  "language_info": {
   "codemirror_mode": "r",
   "file_extension": ".r",
   "mimetype": "text/x-r-source",
   "name": "R",
   "pygments_lexer": "r",
   "version": "3.4.0"
  }
 },
 "nbformat": 4,
 "nbformat_minor": 2
}
