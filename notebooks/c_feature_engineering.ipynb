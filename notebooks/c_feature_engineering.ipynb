{
 "cells": [
  {
   "cell_type": "code",
   "execution_count": 16,
   "metadata": {},
   "outputs": [
    {
     "name": "stderr",
     "output_type": "stream",
     "text": [
      "\n",
      "Attaching package: ‘lubridate’\n",
      "\n",
      "The following object is masked from ‘package:base’:\n",
      "\n",
      "    date\n",
      "\n"
     ]
    }
   ],
   "source": [
    "library(lubridate)"
   ]
  },
  {
   "cell_type": "code",
   "execution_count": 1,
   "metadata": {},
   "outputs": [
    {
     "data": {
      "text/html": [
       "<dl class=dl-horizontal>\n",
       "\t<dt>X</dt>\n",
       "\t\t<dd>'integer'</dd>\n",
       "\t<dt>Address</dt>\n",
       "\t\t<dd>'integer'</dd>\n",
       "\t<dt>Type</dt>\n",
       "\t\t<dd>'integer'</dd>\n",
       "\t<dt>Latitude</dt>\n",
       "\t\t<dd>'double'</dd>\n",
       "\t<dt>Longitude</dt>\n",
       "\t\t<dd>'double'</dd>\n",
       "\t<dt>Timestamp</dt>\n",
       "\t\t<dd>'double'</dd>\n",
       "\t<dt>Date</dt>\n",
       "\t\t<dd>'double'</dd>\n",
       "\t<dt>Time</dt>\n",
       "\t\t<dd>'character'</dd>\n",
       "</dl>\n"
      ],
      "text/latex": [
       "\\begin{description*}\n",
       "\\item[X] 'integer'\n",
       "\\item[Address] 'integer'\n",
       "\\item[Type] 'integer'\n",
       "\\item[Latitude] 'double'\n",
       "\\item[Longitude] 'double'\n",
       "\\item[Timestamp] 'double'\n",
       "\\item[Date] 'double'\n",
       "\\item[Time] 'character'\n",
       "\\end{description*}\n"
      ],
      "text/markdown": [
       "X\n",
       ":   'integer'Address\n",
       ":   'integer'Type\n",
       ":   'integer'Latitude\n",
       ":   'double'Longitude\n",
       ":   'double'Timestamp\n",
       ":   'double'Date\n",
       ":   'double'Time\n",
       ":   'character'\n",
       "\n"
      ],
      "text/plain": [
       "          X     Address        Type    Latitude   Longitude   Timestamp \n",
       "  \"integer\"   \"integer\"   \"integer\"    \"double\"    \"double\"    \"double\" \n",
       "       Date        Time \n",
       "   \"double\" \"character\" "
      ]
     },
     "metadata": {},
     "output_type": "display_data"
    }
   ],
   "source": [
    "df = read.csv('../data/seattle_911_clean.csv')\n",
    "df$Timestamp <- as.POSIXct(df$Timestamp)\n",
    "df$Date <- as.Date(df$Timestamp)\n",
    "df$Time <- format(df$Timestamp,\"%H:%M:%S\")\n",
    "sapply(df, typeof)"
   ]
  },
  {
   "cell_type": "code",
   "execution_count": 21,
   "metadata": {
    "collapsed": true
   },
   "outputs": [],
   "source": [
    "df$Weekday <- weekdays(df$Date)\n",
    "df$Night <- as.integer((df$Time < \"06:00:00\") | (df$Time > \"18:00:00\"))\n",
    "df$DangHoliday <- as.integer(((month(df$Date) == 7) & (day(df$Date) == 4)) |\n",
    "                             ((month(df$Date) == 1) & (day(df$Date) == 1)))\n"
   ]
  },
  {
   "cell_type": "code",
   "execution_count": 22,
   "metadata": {},
   "outputs": [
    {
     "data": {
      "text/html": [
       "<table>\n",
       "<thead><tr><th scope=col>X</th><th scope=col>Address</th><th scope=col>Type</th><th scope=col>Latitude</th><th scope=col>Longitude</th><th scope=col>Timestamp</th><th scope=col>Date</th><th scope=col>Time</th><th scope=col>Weekday</th><th scope=col>Night</th><th scope=col>DangHoliday</th></tr></thead>\n",
       "<tbody>\n",
       "\t<tr><td>1                         </td><td>6900 37th Av S            </td><td>Medic Response            </td><td>47.54068                  </td><td>-122.2861                 </td><td>2011-11-09 23:33:00       </td><td>2011-11-10                </td><td>23:33:00                  </td><td>Thursday                  </td><td>1                         </td><td>0                         </td></tr>\n",
       "\t<tr><td>2                         </td><td>N 50th St / Stone Way N   </td><td>Aid Response              </td><td>47.66503                  </td><td>-122.3402                 </td><td>2011-11-09 23:32:00       </td><td>2011-11-10                </td><td>23:32:00                  </td><td>Thursday                  </td><td>1                         </td><td>0                         </td></tr>\n",
       "\t<tr><td>3                         </td><td>E John St / E Olive Way   </td><td>Aid Response              </td><td>47.61957                  </td><td>-122.3243                 </td><td>2011-11-09 23:32:00       </td><td>2011-11-10                </td><td>23:32:00                  </td><td>Thursday                  </td><td>1                         </td><td>0                         </td></tr>\n",
       "\t<tr><td>4                         </td><td>611 12th Av S             </td><td>Aid Response              </td><td>47.59741                  </td><td>-122.3172                 </td><td>2011-11-09 23:29:00       </td><td>2011-11-10                </td><td>23:29:00                  </td><td>Thursday                  </td><td>1                         </td><td>0                         </td></tr>\n",
       "\t<tr><td>5                         </td><td>4545 42nd Av Sw           </td><td>Automatic Medical Alarm   </td><td>47.56247                  </td><td>-122.3855                 </td><td>2011-11-09 23:25:00       </td><td>2011-11-10                </td><td>23:25:00                  </td><td>Thursday                  </td><td>1                         </td><td>0                         </td></tr>\n",
       "\t<tr><td>6                         </td><td>2124 3rd Av               </td><td>Investigate Out Of Service</td><td>47.61335                  </td><td>-122.3425                 </td><td>2011-11-09 23:17:00       </td><td>2011-11-10                </td><td>23:17:00                  </td><td>Thursday                  </td><td>1                         </td><td>0                         </td></tr>\n",
       "</tbody>\n",
       "</table>\n"
      ],
      "text/latex": [
       "\\begin{tabular}{r|lllllllllll}\n",
       " X & Address & Type & Latitude & Longitude & Timestamp & Date & Time & Weekday & Night & DangHoliday\\\\\n",
       "\\hline\n",
       "\t 1                          & 6900 37th Av S             & Medic Response             & 47.54068                   & -122.2861                  & 2011-11-09 23:33:00        & 2011-11-10                 & 23:33:00                   & Thursday                   & 1                          & 0                         \\\\\n",
       "\t 2                          & N 50th St / Stone Way N    & Aid Response               & 47.66503                   & -122.3402                  & 2011-11-09 23:32:00        & 2011-11-10                 & 23:32:00                   & Thursday                   & 1                          & 0                         \\\\\n",
       "\t 3                          & E John St / E Olive Way    & Aid Response               & 47.61957                   & -122.3243                  & 2011-11-09 23:32:00        & 2011-11-10                 & 23:32:00                   & Thursday                   & 1                          & 0                         \\\\\n",
       "\t 4                          & 611 12th Av S              & Aid Response               & 47.59741                   & -122.3172                  & 2011-11-09 23:29:00        & 2011-11-10                 & 23:29:00                   & Thursday                   & 1                          & 0                         \\\\\n",
       "\t 5                          & 4545 42nd Av Sw            & Automatic Medical Alarm    & 47.56247                   & -122.3855                  & 2011-11-09 23:25:00        & 2011-11-10                 & 23:25:00                   & Thursday                   & 1                          & 0                         \\\\\n",
       "\t 6                          & 2124 3rd Av                & Investigate Out Of Service & 47.61335                   & -122.3425                  & 2011-11-09 23:17:00        & 2011-11-10                 & 23:17:00                   & Thursday                   & 1                          & 0                         \\\\\n",
       "\\end{tabular}\n"
      ],
      "text/markdown": [
       "\n",
       "X | Address | Type | Latitude | Longitude | Timestamp | Date | Time | Weekday | Night | DangHoliday | \n",
       "|---|---|---|---|---|---|\n",
       "| 1                          | 6900 37th Av S             | Medic Response             | 47.54068                   | -122.2861                  | 2011-11-09 23:33:00        | 2011-11-10                 | 23:33:00                   | Thursday                   | 1                          | 0                          | \n",
       "| 2                          | N 50th St / Stone Way N    | Aid Response               | 47.66503                   | -122.3402                  | 2011-11-09 23:32:00        | 2011-11-10                 | 23:32:00                   | Thursday                   | 1                          | 0                          | \n",
       "| 3                          | E John St / E Olive Way    | Aid Response               | 47.61957                   | -122.3243                  | 2011-11-09 23:32:00        | 2011-11-10                 | 23:32:00                   | Thursday                   | 1                          | 0                          | \n",
       "| 4                          | 611 12th Av S              | Aid Response               | 47.59741                   | -122.3172                  | 2011-11-09 23:29:00        | 2011-11-10                 | 23:29:00                   | Thursday                   | 1                          | 0                          | \n",
       "| 5                          | 4545 42nd Av Sw            | Automatic Medical Alarm    | 47.56247                   | -122.3855                  | 2011-11-09 23:25:00        | 2011-11-10                 | 23:25:00                   | Thursday                   | 1                          | 0                          | \n",
       "| 6                          | 2124 3rd Av                | Investigate Out Of Service | 47.61335                   | -122.3425                  | 2011-11-09 23:17:00        | 2011-11-10                 | 23:17:00                   | Thursday                   | 1                          | 0                          | \n",
       "\n",
       "\n"
      ],
      "text/plain": [
       "  X Address                 Type                       Latitude Longitude\n",
       "1 1 6900 37th Av S          Medic Response             47.54068 -122.2861\n",
       "2 2 N 50th St / Stone Way N Aid Response               47.66503 -122.3402\n",
       "3 3 E John St / E Olive Way Aid Response               47.61957 -122.3243\n",
       "4 4 611 12th Av S           Aid Response               47.59741 -122.3172\n",
       "5 5 4545 42nd Av Sw         Automatic Medical Alarm    47.56247 -122.3855\n",
       "6 6 2124 3rd Av             Investigate Out Of Service 47.61335 -122.3425\n",
       "  Timestamp           Date       Time     Weekday  Night DangHoliday\n",
       "1 2011-11-09 23:33:00 2011-11-10 23:33:00 Thursday 1     0          \n",
       "2 2011-11-09 23:32:00 2011-11-10 23:32:00 Thursday 1     0          \n",
       "3 2011-11-09 23:32:00 2011-11-10 23:32:00 Thursday 1     0          \n",
       "4 2011-11-09 23:29:00 2011-11-10 23:29:00 Thursday 1     0          \n",
       "5 2011-11-09 23:25:00 2011-11-10 23:25:00 Thursday 1     0          \n",
       "6 2011-11-09 23:17:00 2011-11-10 23:17:00 Thursday 1     0          "
      ]
     },
     "metadata": {},
     "output_type": "display_data"
    }
   ],
   "source": [
    "head(df)"
   ]
  },
  {
   "cell_type": "code",
   "execution_count": 23,
   "metadata": {},
   "outputs": [
    {
     "data": {
      "text/html": [
       "4477"
      ],
      "text/latex": [
       "4477"
      ],
      "text/markdown": [
       "4477"
      ],
      "text/plain": [
       "[1] 4477"
      ]
     },
     "metadata": {},
     "output_type": "display_data"
    }
   ],
   "source": [
    "sum(df$DangHoliday)"
   ]
  },
  {
   "cell_type": "code",
   "execution_count": 13,
   "metadata": {},
   "outputs": [],
   "source": []
  },
  {
   "cell_type": "code",
   "execution_count": null,
   "metadata": {},
   "outputs": [],
   "source": []
  },
  {
   "cell_type": "code",
   "execution_count": null,
   "metadata": {
    "collapsed": true
   },
   "outputs": [],
   "source": []
  }
 ],
 "metadata": {
  "kernelspec": {
   "display_name": "R",
   "language": "R",
   "name": "ir"
  },
  "language_info": {
   "codemirror_mode": "r",
   "file_extension": ".r",
   "mimetype": "text/x-r-source",
   "name": "R",
   "pygments_lexer": "r",
   "version": "3.4.0"
  }
 },
 "nbformat": 4,
 "nbformat_minor": 2
}
