{
 "cells": [
  {
   "cell_type": "code",
   "execution_count": 1,
   "metadata": {},
   "outputs": [
    {
     "name": "stderr",
     "output_type": "stream",
     "text": [
      "\n",
      "Attaching package: ‘lubridate’\n",
      "\n",
      "The following object is masked from ‘package:base’:\n",
      "\n",
      "    date\n",
      "\n",
      "\n",
      "Attaching package: ‘dplyr’\n",
      "\n",
      "The following objects are masked from ‘package:lubridate’:\n",
      "\n",
      "    intersect, setdiff, union\n",
      "\n",
      "The following objects are masked from ‘package:stats’:\n",
      "\n",
      "    filter, lag\n",
      "\n",
      "The following objects are masked from ‘package:base’:\n",
      "\n",
      "    intersect, setdiff, setequal, union\n",
      "\n"
     ]
    }
   ],
   "source": [
    "library(lubridate)\n",
    "library(timeDate)\n",
    "library(dplyr)"
   ]
  },
  {
   "cell_type": "code",
   "execution_count": 2,
   "metadata": {},
   "outputs": [
    {
     "data": {
      "text/html": [
       "<dl class=dl-horizontal>\n",
       "\t<dt>X</dt>\n",
       "\t\t<dd>'integer'</dd>\n",
       "\t<dt>Address</dt>\n",
       "\t\t<dd>'integer'</dd>\n",
       "\t<dt>Type</dt>\n",
       "\t\t<dd>'integer'</dd>\n",
       "\t<dt>Latitude</dt>\n",
       "\t\t<dd>'double'</dd>\n",
       "\t<dt>Longitude</dt>\n",
       "\t\t<dd>'double'</dd>\n",
       "\t<dt>Timestamp</dt>\n",
       "\t\t<dd>'double'</dd>\n",
       "\t<dt>Date</dt>\n",
       "\t\t<dd>'double'</dd>\n",
       "\t<dt>Time</dt>\n",
       "\t\t<dd>'character'</dd>\n",
       "</dl>\n"
      ],
      "text/latex": [
       "\\begin{description*}\n",
       "\\item[X] 'integer'\n",
       "\\item[Address] 'integer'\n",
       "\\item[Type] 'integer'\n",
       "\\item[Latitude] 'double'\n",
       "\\item[Longitude] 'double'\n",
       "\\item[Timestamp] 'double'\n",
       "\\item[Date] 'double'\n",
       "\\item[Time] 'character'\n",
       "\\end{description*}\n"
      ],
      "text/markdown": [
       "X\n",
       ":   'integer'Address\n",
       ":   'integer'Type\n",
       ":   'integer'Latitude\n",
       ":   'double'Longitude\n",
       ":   'double'Timestamp\n",
       ":   'double'Date\n",
       ":   'double'Time\n",
       ":   'character'\n",
       "\n"
      ],
      "text/plain": [
       "          X     Address        Type    Latitude   Longitude   Timestamp \n",
       "  \"integer\"   \"integer\"   \"integer\"    \"double\"    \"double\"    \"double\" \n",
       "       Date        Time \n",
       "   \"double\" \"character\" "
      ]
     },
     "metadata": {},
     "output_type": "display_data"
    }
   ],
   "source": [
    "dta = read.csv('../data/seattle_911_clean.csv')\n",
    "dta$Timestamp <- as.POSIXct(dta$Timestamp)\n",
    "dta$Date <- as.Date(dta$Timestamp)\n",
    "dta$Time <- format(dta$Timestamp,\"%H:%M:%S\")\n",
    "sapply(dta, typeof)"
   ]
  },
  {
   "cell_type": "code",
   "execution_count": 3,
   "metadata": {
    "collapsed": true
   },
   "outputs": [],
   "source": [
    "dta$Weekday <- weekdays(dta$Date)\n",
    "dta$Night <- as.integer((dta$Time < \"06:00:00\") | (dta$Time > \"18:00:00\"))\n",
    "dta$DangHoliday <- as.integer(((month(dta$Date) == 7) & (day(dta$Date) == 4)) |\n",
    "                              ((month(dta$Date) == 1) & (day(dta$Date) == 1)))"
   ]
  },
  {
   "cell_type": "code",
   "execution_count": 4,
   "metadata": {
    "collapsed": true
   },
   "outputs": [],
   "source": [
    "years <- seq(2010, 2025)\n",
    "tgiving <- data.frame(as.Date(USThanksgivingDay(year = years)))\n",
    "colnames(tgiving) <- \"dates\"\n",
    "xmas <- data.frame(as.Date(ChristmasDay(year = years)))\n",
    "colnames(xmas) <- \"dates\"\n",
    "trav <- rbind(tgiving, tgiving - 1, tgiving - 2, xmas, xmas - 1, xmas + 1)\n",
    "dta$TravHoliday <- as.integer(dta$Date %in% trav$dates)"
   ]
  },
  {
   "cell_type": "code",
   "execution_count": 5,
   "metadata": {},
   "outputs": [
    {
     "ename": "ERROR",
     "evalue": "Error in df$Date: object of type 'closure' is not subsettable\n",
     "output_type": "error",
     "traceback": [
      "Error in df$Date: object of type 'closure' is not subsettable\nTraceback:\n"
     ]
    }
   ],
   "source": [
    "earliest_date <- min(df$Date)\n",
    "df$DayNumber <- as.integer(df$Date - earliest_date)"
   ]
  },
  {
   "cell_type": "code",
   "execution_count": null,
   "metadata": {},
   "outputs": [],
   "source": [
    "# responses peak around August 3rd each year\n",
    "counts <- dta %>% group_by(Date) %>% summarise(Responses = n())\n",
    "plot(x = counts$Date, y = counts$Responses)"
   ]
  },
  {
   "cell_type": "code",
   "execution_count": null,
   "metadata": {
    "collapsed": true
   },
   "outputs": [],
   "source": [
    "# use cosine wave on 365.25 day cycle peaking in early August to model seasonality\n",
    "dta$Seasonality <- cos((dta$DayNumber - 35) * ((2 * pi) / 365.25))"
   ]
  },
  {
   "cell_type": "code",
   "execution_count": null,
   "metadata": {},
   "outputs": [],
   "source": [
    "head(dta)"
   ]
  },
  {
   "cell_type": "code",
   "execution_count": null,
   "metadata": {},
   "outputs": [],
   "source": [
    "plot(dta$DayNumber, dta$Seasonality + (dta$DayNumber / max(dta$DayNumber)))"
   ]
  },
  {
   "cell_type": "code",
   "execution_count": null,
   "metadata": {},
   "outputs": [],
   "source": [
    "write.csv(dta, file = '../data/seattle_911_time_features.csv')"
   ]
  },
  {
   "cell_type": "code",
   "execution_count": null,
   "metadata": {
    "collapsed": true
   },
   "outputs": [],
   "source": []
  }
 ],
 "metadata": {
  "kernelspec": {
   "display_name": "R",
   "language": "R",
   "name": "ir"
  }
 },
 "nbformat": 4,
 "nbformat_minor": 2
}
