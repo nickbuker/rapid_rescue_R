{
 "cells": [
  {
   "cell_type": "code",
   "execution_count": 3,
   "metadata": {
    "collapsed": true
   },
   "outputs": [],
   "source": [
    "df <- read.csv('../data//model_data.csv', header=TRUE)\n",
    "df <- df[-1]"
   ]
  },
  {
   "cell_type": "code",
   "execution_count": 4,
   "metadata": {},
   "outputs": [
    {
     "data": {
      "text/html": [
       "<table>\n",
       "<thead><tr><th scope=col>mariners_home</th><th scope=col>seahawks_home</th><th scope=col>sounders_home</th><th scope=col>trav_holiday</th><th scope=col>dang_holiday</th><th scope=col>night</th><th scope=col>Monday</th><th scope=col>Saturday</th><th scope=col>Sunday</th><th scope=col>Thursday</th><th scope=col>⋯</th><th scope=col>day_num</th><th scope=col>zone1</th><th scope=col>zone2</th><th scope=col>zone3</th><th scope=col>zone4</th><th scope=col>zone5</th><th scope=col>zone6</th><th scope=col>zone7</th><th scope=col>seasonality</th><th scope=col>freq</th></tr></thead>\n",
       "<tbody>\n",
       "\t<tr><td>0       </td><td>0       </td><td>0       </td><td>0       </td><td>0       </td><td>0       </td><td>0       </td><td>0       </td><td>0       </td><td>0       </td><td>⋯       </td><td>0       </td><td>0       </td><td>1       </td><td>0       </td><td>0       </td><td>0       </td><td>0       </td><td>0       </td><td>1.824157</td><td>20      </td></tr>\n",
       "\t<tr><td>0       </td><td>0       </td><td>0       </td><td>0       </td><td>0       </td><td>0       </td><td>0       </td><td>0       </td><td>0       </td><td>0       </td><td>⋯       </td><td>0       </td><td>0       </td><td>0       </td><td>0       </td><td>0       </td><td>1       </td><td>0       </td><td>0       </td><td>1.824157</td><td>29      </td></tr>\n",
       "\t<tr><td>0       </td><td>0       </td><td>0       </td><td>0       </td><td>0       </td><td>0       </td><td>0       </td><td>0       </td><td>0       </td><td>0       </td><td>⋯       </td><td>0       </td><td>1       </td><td>0       </td><td>0       </td><td>0       </td><td>0       </td><td>0       </td><td>0       </td><td>1.824157</td><td>30      </td></tr>\n",
       "\t<tr><td>0       </td><td>0       </td><td>0       </td><td>0       </td><td>0       </td><td>0       </td><td>0       </td><td>0       </td><td>0       </td><td>0       </td><td>⋯       </td><td>0       </td><td>0       </td><td>0       </td><td>0       </td><td>0       </td><td>0       </td><td>0       </td><td>1       </td><td>1.824157</td><td>24      </td></tr>\n",
       "\t<tr><td>0       </td><td>0       </td><td>0       </td><td>0       </td><td>0       </td><td>0       </td><td>0       </td><td>0       </td><td>0       </td><td>0       </td><td>⋯       </td><td>0       </td><td>0       </td><td>0       </td><td>0       </td><td>1       </td><td>0       </td><td>0       </td><td>0       </td><td>1.824157</td><td>15      </td></tr>\n",
       "\t<tr><td>0       </td><td>0       </td><td>0       </td><td>0       </td><td>0       </td><td>0       </td><td>0       </td><td>0       </td><td>0       </td><td>0       </td><td>⋯       </td><td>0       </td><td>0       </td><td>0       </td><td>0       </td><td>0       </td><td>0       </td><td>1       </td><td>0       </td><td>1.824157</td><td>19      </td></tr>\n",
       "</tbody>\n",
       "</table>\n"
      ],
      "text/latex": [
       "\\begin{tabular}{r|llllllllllllllllllllll}\n",
       " mariners\\_home & seahawks\\_home & sounders\\_home & trav\\_holiday & dang\\_holiday & night & Monday & Saturday & Sunday & Thursday & ⋯ & day\\_num & zone1 & zone2 & zone3 & zone4 & zone5 & zone6 & zone7 & seasonality & freq\\\\\n",
       "\\hline\n",
       "\t 0        & 0        & 0        & 0        & 0        & 0        & 0        & 0        & 0        & 0        & ⋯        & 0        & 0        & 1        & 0        & 0        & 0        & 0        & 0        & 1.824157 & 20      \\\\\n",
       "\t 0        & 0        & 0        & 0        & 0        & 0        & 0        & 0        & 0        & 0        & ⋯        & 0        & 0        & 0        & 0        & 0        & 1        & 0        & 0        & 1.824157 & 29      \\\\\n",
       "\t 0        & 0        & 0        & 0        & 0        & 0        & 0        & 0        & 0        & 0        & ⋯        & 0        & 1        & 0        & 0        & 0        & 0        & 0        & 0        & 1.824157 & 30      \\\\\n",
       "\t 0        & 0        & 0        & 0        & 0        & 0        & 0        & 0        & 0        & 0        & ⋯        & 0        & 0        & 0        & 0        & 0        & 0        & 0        & 1        & 1.824157 & 24      \\\\\n",
       "\t 0        & 0        & 0        & 0        & 0        & 0        & 0        & 0        & 0        & 0        & ⋯        & 0        & 0        & 0        & 0        & 1        & 0        & 0        & 0        & 1.824157 & 15      \\\\\n",
       "\t 0        & 0        & 0        & 0        & 0        & 0        & 0        & 0        & 0        & 0        & ⋯        & 0        & 0        & 0        & 0        & 0        & 0        & 1        & 0        & 1.824157 & 19      \\\\\n",
       "\\end{tabular}\n"
      ],
      "text/markdown": [
       "\n",
       "mariners_home | seahawks_home | sounders_home | trav_holiday | dang_holiday | night | Monday | Saturday | Sunday | Thursday | ⋯ | day_num | zone1 | zone2 | zone3 | zone4 | zone5 | zone6 | zone7 | seasonality | freq | \n",
       "|---|---|---|---|---|---|\n",
       "| 0        | 0        | 0        | 0        | 0        | 0        | 0        | 0        | 0        | 0        | ⋯        | 0        | 0        | 1        | 0        | 0        | 0        | 0        | 0        | 1.824157 | 20       | \n",
       "| 0        | 0        | 0        | 0        | 0        | 0        | 0        | 0        | 0        | 0        | ⋯        | 0        | 0        | 0        | 0        | 0        | 1        | 0        | 0        | 1.824157 | 29       | \n",
       "| 0        | 0        | 0        | 0        | 0        | 0        | 0        | 0        | 0        | 0        | ⋯        | 0        | 1        | 0        | 0        | 0        | 0        | 0        | 0        | 1.824157 | 30       | \n",
       "| 0        | 0        | 0        | 0        | 0        | 0        | 0        | 0        | 0        | 0        | ⋯        | 0        | 0        | 0        | 0        | 0        | 0        | 0        | 1        | 1.824157 | 24       | \n",
       "| 0        | 0        | 0        | 0        | 0        | 0        | 0        | 0        | 0        | 0        | ⋯        | 0        | 0        | 0        | 0        | 1        | 0        | 0        | 0        | 1.824157 | 15       | \n",
       "| 0        | 0        | 0        | 0        | 0        | 0        | 0        | 0        | 0        | 0        | ⋯        | 0        | 0        | 0        | 0        | 0        | 0        | 1        | 0        | 1.824157 | 19       | \n",
       "\n",
       "\n"
      ],
      "text/plain": [
       "  mariners_home seahawks_home sounders_home trav_holiday dang_holiday night\n",
       "1 0             0             0             0            0            0    \n",
       "2 0             0             0             0            0            0    \n",
       "3 0             0             0             0            0            0    \n",
       "4 0             0             0             0            0            0    \n",
       "5 0             0             0             0            0            0    \n",
       "6 0             0             0             0            0            0    \n",
       "  Monday Saturday Sunday Thursday ⋯ day_num zone1 zone2 zone3 zone4 zone5 zone6\n",
       "1 0      0        0      0        ⋯ 0       0     1     0     0     0     0    \n",
       "2 0      0        0      0        ⋯ 0       0     0     0     0     1     0    \n",
       "3 0      0        0      0        ⋯ 0       1     0     0     0     0     0    \n",
       "4 0      0        0      0        ⋯ 0       0     0     0     0     0     0    \n",
       "5 0      0        0      0        ⋯ 0       0     0     0     1     0     0    \n",
       "6 0      0        0      0        ⋯ 0       0     0     0     0     0     1    \n",
       "  zone7 seasonality freq\n",
       "1 0     1.824157    20  \n",
       "2 0     1.824157    29  \n",
       "3 0     1.824157    30  \n",
       "4 1     1.824157    24  \n",
       "5 0     1.824157    15  \n",
       "6 0     1.824157    19  "
      ]
     },
     "metadata": {},
     "output_type": "display_data"
    }
   ],
   "source": [
    "head(df)"
   ]
  },
  {
   "cell_type": "code",
   "execution_count": 5,
   "metadata": {},
   "outputs": [
    {
     "data": {
      "text/html": [
       "<dl class=dl-horizontal>\n",
       "\t<dt>mariners_home</dt>\n",
       "\t\t<dd>'integer'</dd>\n",
       "\t<dt>seahawks_home</dt>\n",
       "\t\t<dd>'integer'</dd>\n",
       "\t<dt>sounders_home</dt>\n",
       "\t\t<dd>'integer'</dd>\n",
       "\t<dt>trav_holiday</dt>\n",
       "\t\t<dd>'integer'</dd>\n",
       "\t<dt>dang_holiday</dt>\n",
       "\t\t<dd>'integer'</dd>\n",
       "\t<dt>night</dt>\n",
       "\t\t<dd>'integer'</dd>\n",
       "\t<dt>Monday</dt>\n",
       "\t\t<dd>'integer'</dd>\n",
       "\t<dt>Saturday</dt>\n",
       "\t\t<dd>'integer'</dd>\n",
       "\t<dt>Sunday</dt>\n",
       "\t\t<dd>'integer'</dd>\n",
       "\t<dt>Thursday</dt>\n",
       "\t\t<dd>'integer'</dd>\n",
       "\t<dt>Tuesday</dt>\n",
       "\t\t<dd>'integer'</dd>\n",
       "\t<dt>Wednesday</dt>\n",
       "\t\t<dd>'integer'</dd>\n",
       "\t<dt>day_num</dt>\n",
       "\t\t<dd>'integer'</dd>\n",
       "\t<dt>zone1</dt>\n",
       "\t\t<dd>'integer'</dd>\n",
       "\t<dt>zone2</dt>\n",
       "\t\t<dd>'integer'</dd>\n",
       "\t<dt>zone3</dt>\n",
       "\t\t<dd>'integer'</dd>\n",
       "\t<dt>zone4</dt>\n",
       "\t\t<dd>'integer'</dd>\n",
       "\t<dt>zone5</dt>\n",
       "\t\t<dd>'integer'</dd>\n",
       "\t<dt>zone6</dt>\n",
       "\t\t<dd>'integer'</dd>\n",
       "\t<dt>zone7</dt>\n",
       "\t\t<dd>'integer'</dd>\n",
       "\t<dt>seasonality</dt>\n",
       "\t\t<dd>'double'</dd>\n",
       "\t<dt>freq</dt>\n",
       "\t\t<dd>'integer'</dd>\n",
       "</dl>\n"
      ],
      "text/latex": [
       "\\begin{description*}\n",
       "\\item[mariners\\textbackslash{}\\_home] 'integer'\n",
       "\\item[seahawks\\textbackslash{}\\_home] 'integer'\n",
       "\\item[sounders\\textbackslash{}\\_home] 'integer'\n",
       "\\item[trav\\textbackslash{}\\_holiday] 'integer'\n",
       "\\item[dang\\textbackslash{}\\_holiday] 'integer'\n",
       "\\item[night] 'integer'\n",
       "\\item[Monday] 'integer'\n",
       "\\item[Saturday] 'integer'\n",
       "\\item[Sunday] 'integer'\n",
       "\\item[Thursday] 'integer'\n",
       "\\item[Tuesday] 'integer'\n",
       "\\item[Wednesday] 'integer'\n",
       "\\item[day\\textbackslash{}\\_num] 'integer'\n",
       "\\item[zone1] 'integer'\n",
       "\\item[zone2] 'integer'\n",
       "\\item[zone3] 'integer'\n",
       "\\item[zone4] 'integer'\n",
       "\\item[zone5] 'integer'\n",
       "\\item[zone6] 'integer'\n",
       "\\item[zone7] 'integer'\n",
       "\\item[seasonality] 'double'\n",
       "\\item[freq] 'integer'\n",
       "\\end{description*}\n"
      ],
      "text/markdown": [
       "mariners_home\n",
       ":   'integer'seahawks_home\n",
       ":   'integer'sounders_home\n",
       ":   'integer'trav_holiday\n",
       ":   'integer'dang_holiday\n",
       ":   'integer'night\n",
       ":   'integer'Monday\n",
       ":   'integer'Saturday\n",
       ":   'integer'Sunday\n",
       ":   'integer'Thursday\n",
       ":   'integer'Tuesday\n",
       ":   'integer'Wednesday\n",
       ":   'integer'day_num\n",
       ":   'integer'zone1\n",
       ":   'integer'zone2\n",
       ":   'integer'zone3\n",
       ":   'integer'zone4\n",
       ":   'integer'zone5\n",
       ":   'integer'zone6\n",
       ":   'integer'zone7\n",
       ":   'integer'seasonality\n",
       ":   'double'freq\n",
       ":   'integer'\n",
       "\n"
      ],
      "text/plain": [
       "mariners_home seahawks_home sounders_home  trav_holiday  dang_holiday \n",
       "    \"integer\"     \"integer\"     \"integer\"     \"integer\"     \"integer\" \n",
       "        night        Monday      Saturday        Sunday      Thursday \n",
       "    \"integer\"     \"integer\"     \"integer\"     \"integer\"     \"integer\" \n",
       "      Tuesday     Wednesday       day_num         zone1         zone2 \n",
       "    \"integer\"     \"integer\"     \"integer\"     \"integer\"     \"integer\" \n",
       "        zone3         zone4         zone5         zone6         zone7 \n",
       "    \"integer\"     \"integer\"     \"integer\"     \"integer\"     \"integer\" \n",
       "  seasonality          freq \n",
       "     \"double\"     \"integer\" "
      ]
     },
     "metadata": {},
     "output_type": "display_data"
    }
   ],
   "source": [
    "sapply(df, typeof)"
   ]
  },
  {
   "cell_type": "code",
   "execution_count": 11,
   "metadata": {
    "collapsed": true
   },
   "outputs": [],
   "source": [
    "y <- df$freq\n",
    "X <- df[, !names(df) %in% c(\"freq\")]"
   ]
  },
  {
   "cell_type": "code",
   "execution_count": 16,
   "metadata": {
    "collapsed": true
   },
   "outputs": [],
   "source": [
    "lm <- glm(freq ~ ., family = 'poisson'(link=log), data = df)"
   ]
  },
  {
   "cell_type": "code",
   "execution_count": 17,
   "metadata": {},
   "outputs": [
    {
     "data": {
      "text/plain": [
       "\n",
       "Call:\n",
       "glm(formula = freq ~ ., family = poisson(link = log), data = df)\n",
       "\n",
       "Deviance Residuals: \n",
       "    Min       1Q   Median       3Q      Max  \n",
       "-6.0464  -0.8446  -0.0970   0.7093   9.9636  \n",
       "\n",
       "Coefficients:\n",
       "                Estimate Std. Error z value Pr(>|z|)    \n",
       "(Intercept)   -7.766e-02  2.075e-02  -3.743 0.000182 ***\n",
       "mariners_home -3.966e-04  3.187e-03  -0.124 0.900960    \n",
       "seahawks_home -2.795e-02  9.647e-03  -2.897 0.003768 ** \n",
       "sounders_home  6.107e-03  6.558e-03   0.931 0.351764    \n",
       "trav_holiday  -5.638e-02  1.139e-02  -4.949 7.46e-07 ***\n",
       "dang_holiday   1.272e-01  1.673e-02   7.607 2.80e-14 ***\n",
       "night          3.035e-01  2.728e-03 111.232  < 2e-16 ***\n",
       "Monday        -3.676e-02  5.057e-03  -7.270 3.60e-13 ***\n",
       "Saturday       1.551e-02  5.086e-03   3.050 0.002285 ** \n",
       "Sunday        -7.423e-03  5.212e-03  -1.424 0.154344    \n",
       "Thursday      -3.058e-02  5.060e-03  -6.043 1.52e-09 ***\n",
       "Tuesday       -3.996e-02  5.043e-03  -7.925 2.28e-15 ***\n",
       "Wednesday     -2.574e-02  5.025e-03  -5.122 3.02e-07 ***\n",
       "day_num        1.445e-04  2.063e-06  70.052  < 2e-16 ***\n",
       "zone1          2.701e+00  2.043e-02 132.211  < 2e-16 ***\n",
       "zone2          2.479e+00  2.050e-02 120.959  < 2e-16 ***\n",
       "zone3          2.076e+00  2.067e-02 100.482  < 2e-16 ***\n",
       "zone4          2.646e+00  2.044e-02 129.445  < 2e-16 ***\n",
       "zone5          2.933e+00  2.037e-02 143.967  < 2e-16 ***\n",
       "zone6          2.276e+00  2.057e-02 110.629  < 2e-16 ***\n",
       "zone7          2.606e+00  2.046e-02 127.393  < 2e-16 ***\n",
       "seasonality    5.383e-02  2.008e-03  26.809  < 2e-16 ***\n",
       "---\n",
       "Signif. codes:  0 ‘***’ 0.001 ‘**’ 0.01 ‘*’ 0.05 ‘.’ 0.1 ‘ ’ 1\n",
       "\n",
       "(Dispersion parameter for poisson family taken to be 1)\n",
       "\n",
       "    Null deviance: 156436  on 33058  degrees of freedom\n",
       "Residual deviance:  58448  on 33037  degrees of freedom\n",
       "AIC: 206233\n",
       "\n",
       "Number of Fisher Scoring iterations: 4\n"
      ]
     },
     "metadata": {},
     "output_type": "display_data"
    }
   ],
   "source": [
    "summary(lm)"
   ]
  },
  {
   "cell_type": "code",
   "execution_count": null,
   "metadata": {
    "collapsed": true
   },
   "outputs": [],
   "source": []
  }
 ],
 "metadata": {
  "kernelspec": {
   "display_name": "R",
   "language": "R",
   "name": "ir"
  },
  "language_info": {
   "codemirror_mode": "r",
   "file_extension": ".r",
   "mimetype": "text/x-r-source",
   "name": "R",
   "pygments_lexer": "r",
   "version": "3.4.0"
  }
 },
 "nbformat": 4,
 "nbformat_minor": 2
}
